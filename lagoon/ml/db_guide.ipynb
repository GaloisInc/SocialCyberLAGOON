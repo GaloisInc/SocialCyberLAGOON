{
    "cells": [
        {
            "cell_type": "code",
            "execution_count": 1,
            "source": [
                "import sqlalchemy as sa\n",
                "from lagoon.db.connection import get_session\n",
                "from lagoon.db import schema as sch\n",
                "import numpy as np\n",
                "import pandas as pd\n",
                "import arrow\n",
                "\n",
                "sess = get_session().__enter__()"
            ],
            "outputs": [],
            "metadata": {}
        },
        {
            "cell_type": "markdown",
            "source": [
                "## Entities and Observations Basics"
            ],
            "metadata": {}
        },
        {
            "cell_type": "code",
            "execution_count": 2,
            "source": [
                "entities = sess.query(sch.Entity) #this is a query object\n",
                "print(entities.count())\n",
                "# len(entities) is invalid, however, indexing works\n",
                "print(entities[:3])"
            ],
            "outputs": [
                {
                    "output_type": "stream",
                    "name": "stdout",
                    "text": [
                        "996703\n",
                        "[<lagoon.db.schema.Entity 1509623: EntityTypeEnum.person andrew barnert <abarnert@yahoo.com>>, <lagoon.db.schema.Entity 1509624: EntityTypeEnum.person tomer filiba <tomerfiliba@gmail.com>>, <lagoon.db.schema.Entity 1509625: EntityTypeEnum.person cooper ry lees <lists@cooperlees.com>>]\n"
                    ]
                }
            ],
            "metadata": {}
        },
        {
            "cell_type": "code",
            "execution_count": 5,
            "source": [
                "entities_list = entities.all() #the all() converts a query to a list\n",
                "print(len(entities_list))\n",
                "# NOTE: dealing with lists takes a lot of time, so stick to queries.\n",
                "# NOTE: When iterating, i.e. `for entity in entities`, time taken is the same for a) queries and b) queries converted to lists using .all(). So, stick to queries."
            ],
            "outputs": [
                {
                    "output_type": "stream",
                    "name": "stdout",
                    "text": [
                        "996703\n"
                    ]
                }
            ],
            "metadata": {}
        },
        {
            "cell_type": "code",
            "execution_count": 6,
            "source": [
                "observations = sess.query(sch.Observation)\n",
                "print(observations.count())"
            ],
            "outputs": [
                {
                    "output_type": "stream",
                    "name": "stdout",
                    "text": [
                        "3975278\n"
                    ]
                }
            ],
            "metadata": {}
        },
        {
            "cell_type": "markdown",
            "source": [
                "## Properties"
            ],
            "metadata": {}
        },
        {
            "cell_type": "code",
            "execution_count": 7,
            "source": [
                "e = entities[0]\n",
                "for attr in dir(e):\n",
                "    if not attr.startswith('__'):\n",
                "        print(f\"'{attr}': {getattr(e,attr)}\")"
            ],
            "outputs": [
                {
                    "output_type": "stream",
                    "name": "stdout",
                    "text": [
                        "'_sa_class_manager': <ClassManager of <class 'lagoon.db.schema.Entity'> at 1078aaf90>\n",
                        "'_sa_instance_state': <sqlalchemy.orm.state.InstanceState object at 0x1046dd160>\n",
                        "'_sa_registry': <sqlalchemy.orm.decl_api.registry object at 0x10787e640>\n",
                        "'attrs': {'name': 'andrew barnert', 'email': 'abarnert@yahoo.com'}\n",
                        "'batch': Batch(id=25, resource='ocean-python.pck', ingest_time=datetime.datetime(2021, 8, 5, 23, 3, 10, 323383), revision=None)\n",
                        "'batch_id': 25\n",
                        "'fused': <bound method Entity.fused of <lagoon.db.schema.Entity 1509623: EntityTypeEnum.person andrew barnert <abarnert@yahoo.com>>>\n",
                        "'id': 1509623\n",
                        "'metadata': MetaData()\n",
                        "'name': andrew barnert <abarnert@yahoo.com>\n",
                        "'obs_as_dst': SELECT observation.id AS observation_id, observation.batch_id AS observation_batch_id, observation.type AS observation_type, observation.value AS observation_value, observation.time AS observation_time, observation.attrs AS observation_attrs, observation.dst_id AS observation_dst_id, observation.src_id AS observation_src_id \n",
                        "FROM observation \n",
                        "WHERE %(param_1)s = observation.dst_id\n",
                        "'obs_as_src': SELECT observation.id AS observation_id, observation.batch_id AS observation_batch_id, observation.type AS observation_type, observation.value AS observation_value, observation.time AS observation_time, observation.attrs AS observation_attrs, observation.dst_id AS observation_dst_id, observation.src_id AS observation_src_id \n",
                        "FROM observation \n",
                        "WHERE %(param_1)s = observation.src_id\n",
                        "'registry': <sqlalchemy.orm.decl_api.registry object at 0x10787e640>\n",
                        "'type': EntityTypeEnum.person\n"
                    ]
                }
            ],
            "metadata": {}
        },
        {
            "cell_type": "code",
            "execution_count": 10,
            "source": [
                "ob = observations[0]\n",
                "for attr in dir(ob):\n",
                "    if not attr.startswith('__'):\n",
                "        print(f\"'{attr}': {getattr(ob,attr)}\")"
            ],
            "outputs": [
                {
                    "output_type": "stream",
                    "name": "stdout",
                    "text": [
                        "'_sa_class_manager': <ClassManager of <class 'lagoon.db.schema.Observation'> at 1078ca8b0>\n",
                        "'_sa_instance_state': <sqlalchemy.orm.state.InstanceState object at 0x14d706880>\n",
                        "'_sa_registry': <sqlalchemy.orm.decl_api.registry object at 0x10787e640>\n",
                        "'attrs': {}\n",
                        "'batch': Batch(id=25, resource='ocean-python.pck', ingest_time=datetime.datetime(2021, 8, 5, 23, 3, 10, 323383), revision=None)\n",
                        "'batch_id': 25\n",
                        "'dst': <lagoon.db.schema.Entity 1558842: EntityTypeEnum.message Message <1352951084.92039.YahooMailRC@web184706.mail.ne1.yahoo.com>>\n",
                        "'dst_id': 1558842\n",
                        "'id': 4093830\n",
                        "'metadata': MetaData()\n",
                        "'registry': <sqlalchemy.orm.decl_api.registry object at 0x10787e640>\n",
                        "'src': <lagoon.db.schema.Entity 1509623: EntityTypeEnum.person andrew barnert <abarnert@yahoo.com>>\n",
                        "'src_id': 1509623\n",
                        "'time': 2012-11-15 03:44:44\n",
                        "'type': ObservationTypeEnum.message_from\n",
                        "'value': None\n"
                    ]
                }
            ],
            "metadata": {}
        },
        {
            "cell_type": "markdown",
            "source": [
                "## Connections"
            ],
            "metadata": {}
        },
        {
            "cell_type": "code",
            "execution_count": 8,
            "source": [
                "# Get all observations connected to this entity\n",
                "# Note that the `obs_as_src` and `obs_as_dst` properties of an entity object are queries, so the best way to append one to the other is to concatenate the lists\n",
                "obs = e.obs_as_src.all() + e.obs_as_dst.all() #this is a list\n",
                "print(len(obs))"
            ],
            "outputs": [
                {
                    "output_type": "stream",
                    "name": "stdout",
                    "text": [
                        "4329\n"
                    ]
                }
            ],
            "metadata": {}
        },
        {
            "cell_type": "code",
            "execution_count": 9,
            "source": [
                "# Get all other entities connected to ths entity\n",
                "connected_e = []\n",
                "ids = {e.id}\n",
                "for ob in obs:\n",
                "    ids.add(ob.src_id)\n",
                "    ids.add(ob.dst_id)\n",
                "ids.remove(e.id)\n",
                "for id in ids:\n",
                "    connected_e.append(sess.query(sch.Entity).get(id))\n",
                "print(len(connected_e))"
            ],
            "outputs": [
                {
                    "output_type": "stream",
                    "name": "stdout",
                    "text": [
                        "2552\n"
                    ]
                }
            ],
            "metadata": {}
        },
        {
            "cell_type": "markdown",
            "source": [
                "## Fused Entities and Observations"
            ],
            "metadata": {}
        },
        {
            "cell_type": "code",
            "execution_count": 4,
            "source": [
                "## Get fused entities and observations\n",
                "fused_entities = sess.query(sch.FusedEntity)\n",
                "print(fused_entities.count())\n",
                "fused_observations = sess.query(sch.FusedObservation)\n",
                "print(fused_observations.count())"
            ],
            "outputs": [
                {
                    "output_type": "stream",
                    "name": "stdout",
                    "text": [
                        "981865\n",
                        "3975266\n"
                    ]
                }
            ],
            "metadata": {}
        },
        {
            "cell_type": "code",
            "execution_count": 17,
            "source": [
                "fe = fused_entities[0]\n",
                "for attr in dir(fe):\n",
                "    if not attr.startswith('__'):\n",
                "        try:\n",
                "            print(f\"'{attr}': {getattr(fe,attr)}\")\n",
                "        except:\n",
                "            pass\n",
                "print(\"_______________________________________________________\")\n",
                "fob = fused_observations[0]\n",
                "for attr in dir(fob):\n",
                "    if not attr.startswith('__'):\n",
                "        print(f\"'{attr}': {getattr(fob,attr)}\")"
            ],
            "outputs": [
                {
                    "output_type": "stream",
                    "name": "stdout",
                    "text": [
                        "'_sa_class_manager': <ClassManager of <class 'lagoon.db.schema_fused.FusedEntity'> at 1078dfd10>\n",
                        "'_sa_instance_state': <sqlalchemy.orm.state.InstanceState object at 0x132469b80>\n",
                        "'_sa_registry': <sqlalchemy.orm.decl_api.registry object at 0x10787e640>\n",
                        "'attrs': {'name': 'tomer filiba', 'email': 'tomerfiliba@gmail.com'}\n",
                        "'batch_id': 25\n",
                        "'fusions': [EntityFusion(id_lowest=1509624, id_other=1529217, comment='email match: tomerfiliba@gmail.com'), EntityFusion(id_lowest=1509624, id_other=1510879, comment='email match: tomerfiliba@gmail.com'), EntityFusion(id_lowest=1509624, id_other=1509624, comment='email match: tomerfiliba@gmail.com')]\n",
                        "'id': 1509624\n",
                        "'metadata': MetaData()\n",
                        "'name': tomer filiba <tomerfiliba@gmail.com>\n",
                        "'obs_hops': <bound method FusedEntity.obs_hops of <lagoon.db.schema_fused.FusedEntity 1509624: EntityTypeEnum.person tomer filiba <tomerfiliba@gmail.com>>>\n",
                        "'registry': <sqlalchemy.orm.decl_api.registry object at 0x10787e640>\n",
                        "'type': EntityTypeEnum.person\n",
                        "_______________________________________________________\n",
                        "'_sa_class_manager': <ClassManager of <class 'lagoon.db.schema_fused.FusedObservation'> at 107964a40>\n",
                        "'_sa_instance_state': <sqlalchemy.orm.state.InstanceState object at 0x1385ee640>\n",
                        "'_sa_registry': <sqlalchemy.orm.decl_api.registry object at 0x10787e640>\n",
                        "'attrs': {}\n",
                        "'batch_id': 25\n",
                        "'dst': <lagoon.db.schema_fused.FusedEntity 2243604: EntityTypeEnum.message Message <1115340437.139748.291890@z14g2000cwz.googlegroups.com>>\n",
                        "'dst_id': 2243604\n",
                        "'id': 4533796\n",
                        "'metadata': MetaData()\n",
                        "'registry': <sqlalchemy.orm.decl_api.registry object at 0x10787e640>\n",
                        "'src': <lagoon.db.schema_fused.FusedEntity 260304: EntityTypeEnum.person Wu Wei <weiwu@cacheme.net>>\n",
                        "'src_id': 260304\n",
                        "'time': 2005-05-06 00:47:17\n",
                        "'type': ObservationTypeEnum.message_from\n",
                        "'value': None\n"
                    ]
                }
            ],
            "metadata": {}
        },
        {
            "cell_type": "markdown",
            "source": [
                "## Hops"
            ],
            "metadata": {}
        },
        {
            "cell_type": "code",
            "execution_count": 2,
            "source": [
                "# Get observations k hops out\n",
                "some_entity = sess.query(sch.FusedEntity).get(1509628)\n",
                "for k in [1,2,3]:\n",
                "    print(len(some_entity.obs_hops(k))) #these are lists\n",
                "print(some_entity.obs_hops(1)[0])"
            ],
            "outputs": [
                {
                    "output_type": "stream",
                    "name": "stdout",
                    "text": [
                        "9\n",
                        "32\n",
                        "88\n",
                        "<lagoon.db.schema_fused.FusedObservation 4117269: (ObservationTypeEnum.message_from@2000-12-13, <lagoon.db.schema_fused.FusedEntity 1509628: EntityTypeEnum.person per kraulis <per@sbc.su.se>>, <lagoon.db.schema_fused.FusedEntity 1558117: EntityTypeEnum.message Message <mailman.976980782.10845.clpa-moderators@python.org>>)>\n"
                    ]
                }
            ],
            "metadata": {}
        },
        {
            "cell_type": "markdown",
            "source": [
                "### Restrict by time"
            ],
            "metadata": {}
        },
        {
            "cell_type": "code",
            "execution_count": 3,
            "source": [
                "obs = some_entity.obs_hops(1, time_min=arrow.get('2000-01-01').datetime, time_max=arrow.get('2000-12-31').datetime)\n",
                "print(len(obs))"
            ],
            "outputs": [
                {
                    "output_type": "stream",
                    "name": "stdout",
                    "text": [
                        "7\n"
                    ]
                }
            ],
            "metadata": {}
        },
        {
            "cell_type": "code",
            "execution_count": 6,
            "source": [
                "# obs_hops is a better way instead of getting sources and destinations separately\n",
                "\n",
                "commits = sess.query(sch.FusedEntity).where(sch.FusedEntity.type == sch.EntityTypeEnum.git_commit)\n",
                "commit = commits[0]\n",
                "# print(commit.obs_as_src).count() #this will NOT work since `'FusedEntity.obs_as_src' is not available due to lazy='raise'`\n",
                "# Likewise for dst\n",
                "\n",
                "# Instead, do this:\n",
                "obs_as_src = sess.query(sch.FusedObservation).where(sch.FusedObservation.src == commit)\n",
                "obs_as_dst = sess.query(sch.FusedObservation).where(sch.FusedObservation.dst == commit)\n",
                "print(obs_as_src.count() + obs_as_dst.count())\n",
                "\n",
                "# That should be equal to this\n",
                "print(len(commit.obs_hops(1)))\n",
                "\n",
                "# Since they are equivalent, it is better to just use obs_hops instead of obs_as_src and obs_as_dst"
            ],
            "outputs": [
                {
                    "output_type": "stream",
                    "name": "stdout",
                    "text": [
                        "61\n",
                        "61\n"
                    ]
                }
            ],
            "metadata": {}
        },
        {
            "cell_type": "markdown",
            "source": [
                "## Batches"
            ],
            "metadata": {}
        },
        {
            "cell_type": "code",
            "execution_count": 5,
            "source": [
                "batches = sess.query(sch.Batch).all()\n",
                "print(batches)"
            ],
            "outputs": [
                {
                    "output_type": "stream",
                    "name": "stdout",
                    "text": [
                        "[Batch(id=3, resource='ingest-git-github.com/python/cpython.git', ingest_time=datetime.datetime(2021, 7, 9, 17, 37, 25, 167273), revision=None), Batch(id=25, resource='ocean-python.pck', ingest_time=datetime.datetime(2021, 8, 5, 23, 3, 10, 323383), revision=None)]\n"
                    ]
                }
            ],
            "metadata": {}
        },
        {
            "cell_type": "code",
            "execution_count": 12,
            "source": [
                "# Check that all entities and observations belong to these batches\n",
                "fe_batches = sess.query(sch.FusedEntity.batch_id).distinct()\n",
                "print(fe_batches.all())\n",
                "fo_batches = sess.query(sch.FusedObservation.batch_id).distinct()\n",
                "print(fo_batches.all())"
            ],
            "outputs": [
                {
                    "output_type": "stream",
                    "name": "stdout",
                    "text": [
                        "[(25,), (3,)]\n",
                        "[(3,), (25,)]\n"
                    ]
                }
            ],
            "metadata": {}
        },
        {
            "cell_type": "code",
            "execution_count": 4,
            "source": [
                "# Get number of entities and observations of each type in each batch\n",
                "from lagoon.db.schema import EntityTypeEnum, ObservationTypeEnum\n",
                "with get_session() as sess:\n",
                "    for batch_id in [3,25]:\n",
                "        print(f'Batch id {batch_id}:')\n",
                "        for typ in EntityTypeEnum:\n",
                "            entities = sess.query(sch.FusedEntity).where(sch.FusedEntity.batch_id==batch_id).where(sch.FusedEntity.type==typ)\n",
                "            print(f'{typ}: {entities.count()}')\n",
                "        for typ in ObservationTypeEnum:\n",
                "            obs = sess.query(sch.FusedObservation).where(sch.FusedObservation.batch_id==batch_id).where(sch.FusedObservation.type==typ)\n",
                "            print(f'{typ}: {obs.count()}')"
            ],
            "outputs": [
                {
                    "output_type": "stream",
                    "name": "stdout",
                    "text": [
                        "Batch id 3:\n",
                        "EntityTypeEnum.git_commit: 128712\n",
                        "EntityTypeEnum.file: 18599\n",
                        "EntityTypeEnum.message: 0\n",
                        "EntityTypeEnum.person: 1638\n",
                        "ObservationTypeEnum.attached_to: 0\n",
                        "ObservationTypeEnum.committed: 128712\n",
                        "ObservationTypeEnum.created: 128712\n",
                        "ObservationTypeEnum.message_cc: 0\n",
                        "ObservationTypeEnum.message_from: 0\n",
                        "ObservationTypeEnum.message_ref: 0\n",
                        "ObservationTypeEnum.message_to: 0\n",
                        "ObservationTypeEnum.modified: 355288\n",
                        "Batch id 25:\n",
                        "EntityTypeEnum.git_commit: 0\n",
                        "EntityTypeEnum.file: 0\n",
                        "EntityTypeEnum.message: 799019\n",
                        "EntityTypeEnum.person: 33897\n",
                        "ObservationTypeEnum.attached_to: 0\n",
                        "ObservationTypeEnum.committed: 0\n",
                        "ObservationTypeEnum.created: 0\n",
                        "ObservationTypeEnum.message_cc: 0\n",
                        "ObservationTypeEnum.message_from: 977862\n",
                        "ObservationTypeEnum.message_ref: 2384689\n",
                        "ObservationTypeEnum.message_to: 3\n",
                        "ObservationTypeEnum.modified: 0\n"
                    ]
                }
            ],
            "metadata": {}
        },
        {
            "cell_type": "code",
            "execution_count": null,
            "source": [
                "# Check if there is batch overlap\n",
                "for batch_id in [3,25]:\n",
                "    print(f'Batch id {batch_id}:')\n",
                "    entity_ids = set()\n",
                "    obs = sess.query(sch.FusedObservation).where(sch.FusedObservation.batch_id==batch_id)\n",
                "    for ob in obs:\n",
                "        entity_ids.add(ob.src_id)\n",
                "        entity_ids.add(ob.dst_id)\n",
                "    for entity_id in entity_ids:\n",
                "        entity = sess.query(sch.FusedEntity).get(entity_id)\n",
                "        if entity.batch_id != batch_id:\n",
                "            print(f'Mismatch: {entity.id}')\n",
                "\n",
                "# RESULT: There is no overlap "
            ],
            "outputs": [],
            "metadata": {}
        },
        {
            "cell_type": "markdown",
            "source": [
                "## Get start and end times in a batch\n",
                "Alternatively, delete the batch portion to get this for the whole graph"
            ],
            "metadata": {}
        },
        {
            "cell_type": "code",
            "execution_count": 3,
            "source": [
                "obs = (\n",
                "    sess.query(sch.FusedObservation)\n",
                "    .where(sch.FusedObservation.batch_id == 3)\n",
                ")\n",
                "times = sorted([ob.time for ob in obs])\n",
                "print(times[0])\n",
                "print(times[-1])"
            ],
            "outputs": [
                {
                    "output_type": "stream",
                    "name": "stdout",
                    "text": [
                        "1990-08-09 14:25:15\n",
                        "2021-06-28 22:02:18\n"
                    ]
                }
            ],
            "metadata": {}
        },
        {
            "cell_type": "code",
            "execution_count": 4,
            "source": [
                "obs = (\n",
                "    sess.query(sch.FusedObservation)\n",
                "    .where(sch.FusedObservation.batch_id == 25)\n",
                ")\n",
                "times = sorted([ob.time for ob in obs])\n",
                "print(times[0])\n",
                "print(times[-1])"
            ],
            "outputs": [
                {
                    "output_type": "stream",
                    "name": "stdout",
                    "text": [
                        "1995-03-16 06:08:16\n",
                        "2021-05-01 03:07:50\n"
                    ]
                }
            ],
            "metadata": {}
        },
        {
            "cell_type": "markdown",
            "source": [
                "## Toxicity analysis"
            ],
            "metadata": {}
        },
        {
            "cell_type": "code",
            "execution_count": 4,
            "source": [
                "# All attributes for all entities\n",
                "keys = sess.query(sa.func.jsonb_object_keys(sch.FusedEntity.attrs)).distinct()\n",
                "sorted(keys.all())"
            ],
            "outputs": [
                {
                    "output_type": "execute_result",
                    "data": {
                        "text/plain": [
                            "[('badwords_ex_googleInstantB_any',),\n",
                            " ('badwords_ex_mrezvan94Harassment_Appearance',),\n",
                            " ('badwords_ex_mrezvan94Harassment_Generic',),\n",
                            " ('badwords_ex_mrezvan94Harassment_Intelligence',),\n",
                            " ('badwords_ex_mrezvan94Harassment_Politics',),\n",
                            " ('badwords_ex_mrezvan94Harassment_Racial',),\n",
                            " ('badwords_ex_mrezvan94Harassment_Sexual',),\n",
                            " ('badwords_ex_swearing_any',),\n",
                            " ('body_text',),\n",
                            " ('computed_badwords_googleInstantB_any',),\n",
                            " ('computed_badwords_mrezvan94Harassment_Appearance',),\n",
                            " ('computed_badwords_mrezvan94Harassment_Generic',),\n",
                            " ('computed_badwords_mrezvan94Harassment_Intelligence',),\n",
                            " ('computed_badwords_mrezvan94Harassment_Politics',),\n",
                            " ('computed_badwords_mrezvan94Harassment_Racial',),\n",
                            " ('computed_badwords_mrezvan94Harassment_Sexual',),\n",
                            " ('computed_badwords_swearing_any',),\n",
                            " ('email',),\n",
                            " ('flagged_abuse',),\n",
                            " ('message',),\n",
                            " ('name',),\n",
                            " ('origin_filename',),\n",
                            " ('subject',)]"
                        ]
                    },
                    "metadata": {},
                    "execution_count": 4
                }
            ],
            "metadata": {}
        },
        {
            "cell_type": "code",
            "execution_count": 5,
            "source": [
                "# All attributes for all message entities\n",
                "# NOTE: Same as above, except for the absences of 'email' and 'name' (these are only for person presumably), and 'message' (only for commits presumably)\n",
                "mkeys = sess.query(sa.func.jsonb_object_keys(sch.FusedEntity.attrs)).where(sch.FusedEntity.type == sch.EntityTypeEnum.message).distinct()\n",
                "sorted(mkeys.all())"
            ],
            "outputs": [
                {
                    "output_type": "execute_result",
                    "data": {
                        "text/plain": [
                            "[('badwords_ex_googleInstantB_any',),\n",
                            " ('badwords_ex_mrezvan94Harassment_Appearance',),\n",
                            " ('badwords_ex_mrezvan94Harassment_Generic',),\n",
                            " ('badwords_ex_mrezvan94Harassment_Intelligence',),\n",
                            " ('badwords_ex_mrezvan94Harassment_Politics',),\n",
                            " ('badwords_ex_mrezvan94Harassment_Racial',),\n",
                            " ('badwords_ex_mrezvan94Harassment_Sexual',),\n",
                            " ('badwords_ex_swearing_any',),\n",
                            " ('body_text',),\n",
                            " ('computed_badwords_googleInstantB_any',),\n",
                            " ('computed_badwords_mrezvan94Harassment_Appearance',),\n",
                            " ('computed_badwords_mrezvan94Harassment_Generic',),\n",
                            " ('computed_badwords_mrezvan94Harassment_Intelligence',),\n",
                            " ('computed_badwords_mrezvan94Harassment_Politics',),\n",
                            " ('computed_badwords_mrezvan94Harassment_Racial',),\n",
                            " ('computed_badwords_mrezvan94Harassment_Sexual',),\n",
                            " ('computed_badwords_swearing_any',),\n",
                            " ('flagged_abuse',),\n",
                            " ('origin_filename',),\n",
                            " ('subject',)]"
                        ]
                    },
                    "metadata": {},
                    "execution_count": 5
                }
            ],
            "metadata": {}
        },
        {
            "cell_type": "code",
            "execution_count": 9,
            "source": [
                "# Check of flagged_abuse is ever not None\n",
                "fused_entities = sess.query(sch.FusedEntity)\n",
                "count = 0\n",
                "for fe in fused_entities:\n",
                "    if fe.attrs.get('flagged_abuse'):\n",
                "        print(fe.attrs)\n",
                "        print(\"______________________________________\")\n",
                "        count += 1\n",
                "    if count==2:\n",
                "        break\n",
                "\n",
                "# RESULT: flagged_abuse is always None"
            ],
            "outputs": [],
            "metadata": {}
        }
    ],
    "metadata": {
        "orig_nbformat": 4,
        "language_info": {
            "name": "python",
            "version": "3.8.2",
            "mimetype": "text/x-python",
            "codemirror_mode": {
                "name": "ipython",
                "version": 3
            },
            "pygments_lexer": "ipython3",
            "nbconvert_exporter": "python",
            "file_extension": ".py"
        },
        "kernelspec": {
            "name": "python3",
            "display_name": "Python 3.8.2 64-bit ('py38': venv)"
        },
        "interpreter": {
            "hash": "10dccce9b7dff92d4d473ff866935f02fea1365a15ec3b54c558aa393b0bbb79"
        }
    },
    "nbformat": 4,
    "nbformat_minor": 2
}