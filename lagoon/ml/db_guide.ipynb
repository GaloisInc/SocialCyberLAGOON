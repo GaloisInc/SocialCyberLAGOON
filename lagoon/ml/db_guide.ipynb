{
    "cells": [
        {
            "cell_type": "code",
            "execution_count": 1,
            "metadata": {},
            "outputs": [],
            "source": [
                "import sqlalchemy as sa\n",
                "from lagoon.db.connection import get_session\n",
                "from lagoon.db import schema as sch\n",
                "import numpy as np\n",
                "import pandas as pd\n",
                "import arrow\n",
                "\n",
                "sess = get_session().__enter__()"
            ]
        },
        {
            "cell_type": "markdown",
            "metadata": {},
            "source": [
                "## Entities and Observations Basics"
            ]
        },
        {
            "cell_type": "code",
            "execution_count": 3,
            "metadata": {},
            "outputs": [
                {
                    "name": "stdout",
                    "output_type": "stream",
                    "text": [
                        "996703\n",
                        "[<lagoon.db.schema.Entity 1520737: EntityTypeEnum.person hans deragon <hans@deragon.biz>>, <lagoon.db.schema.Entity 1520738: EntityTypeEnum.person ombongi moraa fe <moraa.lovetakes2@gmail.com>>, <lagoon.db.schema.Entity 1520739: EntityTypeEnum.person kenneth love <klove@tax.ok.gov>>]\n"
                    ]
                }
            ],
            "source": [
                "entities = sess.query(sch.Entity) #this is a query object\n",
                "print(entities.count())\n",
                "# len(entities) is invalid, however, indexing works\n",
                "print(entities[:3])"
            ]
        },
        {
            "cell_type": "code",
            "execution_count": 5,
            "metadata": {},
            "outputs": [
                {
                    "name": "stdout",
                    "output_type": "stream",
                    "text": [
                        "996703\n"
                    ]
                }
            ],
            "source": [
                "entities_list = entities.all() #the all() converts a query to a list\n",
                "print(len(entities_list))\n",
                "# NOTE: dealing with lists takes a lot of time, so stick to queries.\n",
                "# NOTE: When iterating, i.e. `for entity in entities`, time taken is the same for a) queries and b) queries converted to lists using .all(). So, stick to queries."
            ]
        },
        {
            "cell_type": "code",
            "execution_count": 6,
            "metadata": {},
            "outputs": [
                {
                    "name": "stdout",
                    "output_type": "stream",
                    "text": [
                        "3975278\n"
                    ]
                }
            ],
            "source": [
                "observations = sess.query(sch.Observation)\n",
                "print(observations.count())"
            ]
        },
        {
            "cell_type": "markdown",
            "metadata": {},
            "source": [
                "## Properties"
            ]
        },
        {
            "cell_type": "code",
            "execution_count": 7,
            "metadata": {},
            "outputs": [
                {
                    "name": "stdout",
                    "output_type": "stream",
                    "text": [
                        "'_sa_class_manager': <ClassManager of <class 'lagoon.db.schema.Entity'> at 1078aaf90>\n",
                        "'_sa_instance_state': <sqlalchemy.orm.state.InstanceState object at 0x1046dd160>\n",
                        "'_sa_registry': <sqlalchemy.orm.decl_api.registry object at 0x10787e640>\n",
                        "'attrs': {'name': 'andrew barnert', 'email': 'abarnert@yahoo.com'}\n",
                        "'batch': Batch(id=25, resource='ocean-python.pck', ingest_time=datetime.datetime(2021, 8, 5, 23, 3, 10, 323383), revision=None)\n",
                        "'batch_id': 25\n",
                        "'fused': <bound method Entity.fused of <lagoon.db.schema.Entity 1509623: EntityTypeEnum.person andrew barnert <abarnert@yahoo.com>>>\n",
                        "'id': 1509623\n",
                        "'metadata': MetaData()\n",
                        "'name': andrew barnert <abarnert@yahoo.com>\n",
                        "'obs_as_dst': SELECT observation.id AS observation_id, observation.batch_id AS observation_batch_id, observation.type AS observation_type, observation.value AS observation_value, observation.time AS observation_time, observation.attrs AS observation_attrs, observation.dst_id AS observation_dst_id, observation.src_id AS observation_src_id \n",
                        "FROM observation \n",
                        "WHERE %(param_1)s = observation.dst_id\n",
                        "'obs_as_src': SELECT observation.id AS observation_id, observation.batch_id AS observation_batch_id, observation.type AS observation_type, observation.value AS observation_value, observation.time AS observation_time, observation.attrs AS observation_attrs, observation.dst_id AS observation_dst_id, observation.src_id AS observation_src_id \n",
                        "FROM observation \n",
                        "WHERE %(param_1)s = observation.src_id\n",
                        "'registry': <sqlalchemy.orm.decl_api.registry object at 0x10787e640>\n",
                        "'type': EntityTypeEnum.person\n"
                    ]
                }
            ],
            "source": [
                "e = entities[0]\n",
                "for attr in dir(e):\n",
                "    if not attr.startswith('__'):\n",
                "        print(f\"'{attr}': {getattr(e,attr)}\")"
            ]
        },
        {
            "cell_type": "code",
            "execution_count": 10,
            "metadata": {},
            "outputs": [
                {
                    "name": "stdout",
                    "output_type": "stream",
                    "text": [
                        "'_sa_class_manager': <ClassManager of <class 'lagoon.db.schema.Observation'> at 1078ca8b0>\n",
                        "'_sa_instance_state': <sqlalchemy.orm.state.InstanceState object at 0x14d706880>\n",
                        "'_sa_registry': <sqlalchemy.orm.decl_api.registry object at 0x10787e640>\n",
                        "'attrs': {}\n",
                        "'batch': Batch(id=25, resource='ocean-python.pck', ingest_time=datetime.datetime(2021, 8, 5, 23, 3, 10, 323383), revision=None)\n",
                        "'batch_id': 25\n",
                        "'dst': <lagoon.db.schema.Entity 1558842: EntityTypeEnum.message Message <1352951084.92039.YahooMailRC@web184706.mail.ne1.yahoo.com>>\n",
                        "'dst_id': 1558842\n",
                        "'id': 4093830\n",
                        "'metadata': MetaData()\n",
                        "'registry': <sqlalchemy.orm.decl_api.registry object at 0x10787e640>\n",
                        "'src': <lagoon.db.schema.Entity 1509623: EntityTypeEnum.person andrew barnert <abarnert@yahoo.com>>\n",
                        "'src_id': 1509623\n",
                        "'time': 2012-11-15 03:44:44\n",
                        "'type': ObservationTypeEnum.message_from\n",
                        "'value': None\n"
                    ]
                }
            ],
            "source": [
                "ob = observations[0]\n",
                "for attr in dir(ob):\n",
                "    if not attr.startswith('__'):\n",
                "        print(f\"'{attr}': {getattr(ob,attr)}\")"
            ]
        },
        {
            "cell_type": "markdown",
            "metadata": {},
            "source": [
                "## Connections"
            ]
        },
        {
            "cell_type": "code",
            "execution_count": 8,
            "metadata": {},
            "outputs": [
                {
                    "name": "stdout",
                    "output_type": "stream",
                    "text": [
                        "4329\n"
                    ]
                }
            ],
            "source": [
                "# Get all observations connected to this entity\n",
                "# Note that the `obs_as_src` and `obs_as_dst` properties of an entity object are queries, so the best way to append one to the other is to concatenate the lists\n",
                "obs = e.obs_as_src.all() + e.obs_as_dst.all() #this is a list\n",
                "print(len(obs))"
            ]
        },
        {
            "cell_type": "code",
            "execution_count": 9,
            "metadata": {},
            "outputs": [
                {
                    "name": "stdout",
                    "output_type": "stream",
                    "text": [
                        "2552\n"
                    ]
                }
            ],
            "source": [
                "# Get all other entities connected to ths entity\n",
                "connected_e = []\n",
                "ids = {e.id}\n",
                "for ob in obs:\n",
                "    ids.add(ob.src_id)\n",
                "    ids.add(ob.dst_id)\n",
                "ids.remove(e.id)\n",
                "for id in ids:\n",
                "    connected_e.append(sess.query(sch.Entity).get(id))\n",
                "print(len(connected_e))"
            ]
        },
        {
            "cell_type": "markdown",
            "metadata": {},
            "source": [
                "## Fused Entities and Observations"
            ]
        },
        {
            "cell_type": "code",
            "execution_count": 4,
            "metadata": {},
            "outputs": [
                {
                    "name": "stdout",
                    "output_type": "stream",
                    "text": [
                        "981865\n",
                        "3975266\n"
                    ]
                }
            ],
            "source": [
                "## Get fused entities and observations\n",
                "fused_entities = sess.query(sch.FusedEntity)\n",
                "print(fused_entities.count())\n",
                "fused_observations = sess.query(sch.FusedObservation)\n",
                "print(fused_observations.count())"
            ]
        },
        {
            "cell_type": "code",
            "execution_count": 17,
            "metadata": {},
            "outputs": [
                {
                    "name": "stdout",
                    "output_type": "stream",
                    "text": [
                        "'_sa_class_manager': <ClassManager of <class 'lagoon.db.schema_fused.FusedEntity'> at 1078dfd10>\n",
                        "'_sa_instance_state': <sqlalchemy.orm.state.InstanceState object at 0x132469b80>\n",
                        "'_sa_registry': <sqlalchemy.orm.decl_api.registry object at 0x10787e640>\n",
                        "'attrs': {'name': 'tomer filiba', 'email': 'tomerfiliba@gmail.com'}\n",
                        "'batch_id': 25\n",
                        "'fusions': [EntityFusion(id_lowest=1509624, id_other=1529217, comment='email match: tomerfiliba@gmail.com'), EntityFusion(id_lowest=1509624, id_other=1510879, comment='email match: tomerfiliba@gmail.com'), EntityFusion(id_lowest=1509624, id_other=1509624, comment='email match: tomerfiliba@gmail.com')]\n",
                        "'id': 1509624\n",
                        "'metadata': MetaData()\n",
                        "'name': tomer filiba <tomerfiliba@gmail.com>\n",
                        "'obs_hops': <bound method FusedEntity.obs_hops of <lagoon.db.schema_fused.FusedEntity 1509624: EntityTypeEnum.person tomer filiba <tomerfiliba@gmail.com>>>\n",
                        "'registry': <sqlalchemy.orm.decl_api.registry object at 0x10787e640>\n",
                        "'type': EntityTypeEnum.person\n",
                        "_______________________________________________________\n",
                        "'_sa_class_manager': <ClassManager of <class 'lagoon.db.schema_fused.FusedObservation'> at 107964a40>\n",
                        "'_sa_instance_state': <sqlalchemy.orm.state.InstanceState object at 0x1385ee640>\n",
                        "'_sa_registry': <sqlalchemy.orm.decl_api.registry object at 0x10787e640>\n",
                        "'attrs': {}\n",
                        "'batch_id': 25\n",
                        "'dst': <lagoon.db.schema_fused.FusedEntity 2243604: EntityTypeEnum.message Message <1115340437.139748.291890@z14g2000cwz.googlegroups.com>>\n",
                        "'dst_id': 2243604\n",
                        "'id': 4533796\n",
                        "'metadata': MetaData()\n",
                        "'registry': <sqlalchemy.orm.decl_api.registry object at 0x10787e640>\n",
                        "'src': <lagoon.db.schema_fused.FusedEntity 260304: EntityTypeEnum.person Wu Wei <weiwu@cacheme.net>>\n",
                        "'src_id': 260304\n",
                        "'time': 2005-05-06 00:47:17\n",
                        "'type': ObservationTypeEnum.message_from\n",
                        "'value': None\n"
                    ]
                }
            ],
            "source": [
                "fe = fused_entities[0]\n",
                "for attr in dir(fe):\n",
                "    if not attr.startswith('__'):\n",
                "        try:\n",
                "            print(f\"'{attr}': {getattr(fe,attr)}\")\n",
                "        except:\n",
                "            pass\n",
                "print(\"_______________________________________________________\")\n",
                "fob = fused_observations[0]\n",
                "for attr in dir(fob):\n",
                "    if not attr.startswith('__'):\n",
                "        print(f\"'{attr}': {getattr(fob,attr)}\")"
            ]
        },
        {
            "cell_type": "markdown",
            "metadata": {},
            "source": [
                "## Hops"
            ]
        },
        {
            "cell_type": "code",
            "execution_count": 2,
            "metadata": {},
            "outputs": [
                {
                    "name": "stdout",
                    "output_type": "stream",
                    "text": [
                        "9\n",
                        "32\n",
                        "88\n",
                        "<lagoon.db.schema_fused.FusedObservation 4117269: (ObservationTypeEnum.message_from@2000-12-13, <lagoon.db.schema_fused.FusedEntity 1509628: EntityTypeEnum.person per kraulis <per@sbc.su.se>>, <lagoon.db.schema_fused.FusedEntity 1558117: EntityTypeEnum.message Message <mailman.976980782.10845.clpa-moderators@python.org>>)>\n"
                    ]
                }
            ],
            "source": [
                "# Get observations k hops out\n",
                "some_entity = sess.query(sch.FusedEntity).get(1509628)\n",
                "for k in [1,2,3]:\n",
                "    print(len(some_entity.obs_hops(k))) #these are lists\n",
                "print(some_entity.obs_hops(1)[0])"
            ]
        },
        {
            "cell_type": "markdown",
            "metadata": {},
            "source": [
                "### Restrict by time"
            ]
        },
        {
            "cell_type": "code",
            "execution_count": 3,
            "metadata": {},
            "outputs": [
                {
                    "name": "stdout",
                    "output_type": "stream",
                    "text": [
                        "7\n"
                    ]
                }
            ],
            "source": [
                "obs = some_entity.obs_hops(1, time_min=arrow.get('2000-01-01').datetime, time_max=arrow.get('2000-12-31').datetime)\n",
                "print(len(obs))"
            ]
        },
        {
            "cell_type": "code",
            "execution_count": 6,
            "metadata": {},
            "outputs": [
                {
                    "name": "stdout",
                    "output_type": "stream",
                    "text": [
                        "61\n",
                        "61\n"
                    ]
                }
            ],
            "source": [
                "# obs_hops is a better way instead of getting sources and destinations separately\n",
                "\n",
                "commits = sess.query(sch.FusedEntity).where(sch.FusedEntity.type == sch.EntityTypeEnum.git_commit)\n",
                "commit = commits[0]\n",
                "# print(commit.obs_as_src).count() #this will NOT work since `'FusedEntity.obs_as_src' is not available due to lazy='raise'`\n",
                "# Likewise for dst\n",
                "\n",
                "# Instead, do this:\n",
                "obs_as_src = sess.query(sch.FusedObservation).where(sch.FusedObservation.src == commit)\n",
                "obs_as_dst = sess.query(sch.FusedObservation).where(sch.FusedObservation.dst == commit)\n",
                "print(obs_as_src.count() + obs_as_dst.count())\n",
                "\n",
                "# That should be equal to this\n",
                "print(len(commit.obs_hops(1)))\n",
                "\n",
                "# Since they are equivalent, it is better to just use obs_hops instead of obs_as_src and obs_as_dst"
            ]
        },
        {
            "cell_type": "markdown",
            "metadata": {},
            "source": [
                "## Batches"
            ]
        },
        {
            "cell_type": "code",
            "execution_count": 5,
            "metadata": {},
            "outputs": [
                {
                    "name": "stdout",
                    "output_type": "stream",
                    "text": [
                        "[Batch(id=3, resource='ingest-git-github.com/python/cpython.git', ingest_time=datetime.datetime(2021, 7, 9, 17, 37, 25, 167273), revision=None), Batch(id=25, resource='ocean-python.pck', ingest_time=datetime.datetime(2021, 8, 5, 23, 3, 10, 323383), revision=None)]\n"
                    ]
                }
            ],
            "source": [
                "batches = sess.query(sch.Batch).all()\n",
                "print(batches)"
            ]
        },
        {
            "cell_type": "code",
            "execution_count": 12,
            "metadata": {},
            "outputs": [
                {
                    "name": "stdout",
                    "output_type": "stream",
                    "text": [
                        "[(25,), (3,)]\n",
                        "[(3,), (25,)]\n"
                    ]
                }
            ],
            "source": [
                "# Check that all entities and observations belong to these batches\n",
                "fe_batches = sess.query(sch.FusedEntity.batch_id).distinct()\n",
                "print(fe_batches.all())\n",
                "fo_batches = sess.query(sch.FusedObservation.batch_id).distinct()\n",
                "print(fo_batches.all())"
            ]
        },
        {
            "cell_type": "code",
            "execution_count": 4,
            "metadata": {},
            "outputs": [
                {
                    "name": "stdout",
                    "output_type": "stream",
                    "text": [
                        "Batch id 3:\n",
                        "EntityTypeEnum.git_commit: 128712\n",
                        "EntityTypeEnum.file: 18599\n",
                        "EntityTypeEnum.message: 0\n",
                        "EntityTypeEnum.person: 1638\n",
                        "ObservationTypeEnum.attached_to: 0\n",
                        "ObservationTypeEnum.committed: 128712\n",
                        "ObservationTypeEnum.created: 128712\n",
                        "ObservationTypeEnum.message_cc: 0\n",
                        "ObservationTypeEnum.message_from: 0\n",
                        "ObservationTypeEnum.message_ref: 0\n",
                        "ObservationTypeEnum.message_to: 0\n",
                        "ObservationTypeEnum.modified: 355288\n",
                        "Batch id 25:\n",
                        "EntityTypeEnum.git_commit: 0\n",
                        "EntityTypeEnum.file: 0\n",
                        "EntityTypeEnum.message: 799019\n",
                        "EntityTypeEnum.person: 33897\n",
                        "ObservationTypeEnum.attached_to: 0\n",
                        "ObservationTypeEnum.committed: 0\n",
                        "ObservationTypeEnum.created: 0\n",
                        "ObservationTypeEnum.message_cc: 0\n",
                        "ObservationTypeEnum.message_from: 977862\n",
                        "ObservationTypeEnum.message_ref: 2384689\n",
                        "ObservationTypeEnum.message_to: 3\n",
                        "ObservationTypeEnum.modified: 0\n"
                    ]
                }
            ],
            "source": [
                "# Get number of entities and observations of each type in each batch\n",
                "from lagoon.db.schema import EntityTypeEnum, ObservationTypeEnum\n",
                "with get_session() as sess:\n",
                "    for batch_id in [3,25]:\n",
                "        print(f'Batch id {batch_id}:')\n",
                "        for typ in EntityTypeEnum:\n",
                "            entities = sess.query(sch.FusedEntity).where(sch.FusedEntity.batch_id==batch_id).where(sch.FusedEntity.type==typ)\n",
                "            print(f'{typ}: {entities.count()}')\n",
                "        for typ in ObservationTypeEnum:\n",
                "            obs = sess.query(sch.FusedObservation).where(sch.FusedObservation.batch_id==batch_id).where(sch.FusedObservation.type==typ)\n",
                "            print(f'{typ}: {obs.count()}')"
            ]
        },
        {
            "cell_type": "code",
            "execution_count": null,
            "metadata": {},
            "outputs": [],
            "source": [
                "# Check if there is batch overlap\n",
                "for batch_id in [3,25]:\n",
                "    print(f'Batch id {batch_id}:')\n",
                "    entity_ids = set()\n",
                "    obs = sess.query(sch.FusedObservation).where(sch.FusedObservation.batch_id==batch_id)\n",
                "    for ob in obs:\n",
                "        entity_ids.add(ob.src_id)\n",
                "        entity_ids.add(ob.dst_id)\n",
                "    for entity_id in entity_ids:\n",
                "        entity = sess.query(sch.FusedEntity).get(entity_id)\n",
                "        if entity.batch_id != batch_id:\n",
                "            print(f'Mismatch: {entity.id}')\n",
                "\n",
                "# RESULT: There is no overlap "
            ]
        },
        {
            "cell_type": "markdown",
            "metadata": {},
            "source": [
                "## Get start and end times in a batch\n",
                "Alternatively, delete the batch portion to get this for the whole graph"
            ]
        },
        {
            "cell_type": "code",
            "execution_count": 3,
            "metadata": {},
            "outputs": [
                {
                    "name": "stdout",
                    "output_type": "stream",
                    "text": [
                        "1990-08-09 14:25:15\n",
                        "2021-06-28 22:02:18\n"
                    ]
                }
            ],
            "source": [
                "obs = (\n",
                "    sess.query(sch.FusedObservation)\n",
                "    .where(sch.FusedObservation.batch_id == 3)\n",
                ")\n",
                "times = sorted([ob.time for ob in obs])\n",
                "print(times[0])\n",
                "print(times[-1])"
            ]
        },
        {
            "cell_type": "code",
            "execution_count": 4,
            "metadata": {},
            "outputs": [
                {
                    "name": "stdout",
                    "output_type": "stream",
                    "text": [
                        "1995-03-16 06:08:16\n",
                        "2021-05-01 03:07:50\n"
                    ]
                }
            ],
            "source": [
                "obs = (\n",
                "    sess.query(sch.FusedObservation)\n",
                "    .where(sch.FusedObservation.batch_id == 25)\n",
                ")\n",
                "times = sorted([ob.time for ob in obs])\n",
                "print(times[0])\n",
                "print(times[-1])"
            ]
        },
        {
            "cell_type": "markdown",
            "metadata": {},
            "source": [
                "## Toxicity analysis"
            ]
        },
        {
            "cell_type": "code",
            "execution_count": 4,
            "metadata": {},
            "outputs": [
                {
                    "data": {
                        "text/plain": [
                            "[('badwords_ex_googleInstantB_any',),\n",
                            " ('badwords_ex_mrezvan94Harassment_Appearance',),\n",
                            " ('badwords_ex_mrezvan94Harassment_Generic',),\n",
                            " ('badwords_ex_mrezvan94Harassment_Intelligence',),\n",
                            " ('badwords_ex_mrezvan94Harassment_Politics',),\n",
                            " ('badwords_ex_mrezvan94Harassment_Racial',),\n",
                            " ('badwords_ex_mrezvan94Harassment_Sexual',),\n",
                            " ('badwords_ex_swearing_any',),\n",
                            " ('body_text',),\n",
                            " ('computed_badwords_googleInstantB_any',),\n",
                            " ('computed_badwords_mrezvan94Harassment_Appearance',),\n",
                            " ('computed_badwords_mrezvan94Harassment_Generic',),\n",
                            " ('computed_badwords_mrezvan94Harassment_Intelligence',),\n",
                            " ('computed_badwords_mrezvan94Harassment_Politics',),\n",
                            " ('computed_badwords_mrezvan94Harassment_Racial',),\n",
                            " ('computed_badwords_mrezvan94Harassment_Sexual',),\n",
                            " ('computed_badwords_swearing_any',),\n",
                            " ('email',),\n",
                            " ('flagged_abuse',),\n",
                            " ('message',),\n",
                            " ('name',),\n",
                            " ('origin_filename',),\n",
                            " ('subject',)]"
                        ]
                    },
                    "execution_count": 4,
                    "metadata": {},
                    "output_type": "execute_result"
                }
            ],
            "source": [
                "# All attributes for all entities\n",
                "keys = sess.query(sa.func.jsonb_object_keys(sch.FusedEntity.attrs)).distinct()\n",
                "sorted(keys.all())"
            ]
        },
        {
            "cell_type": "code",
            "execution_count": 5,
            "metadata": {},
            "outputs": [
                {
                    "data": {
                        "text/plain": [
                            "[('badwords_ex_googleInstantB_any',),\n",
                            " ('badwords_ex_mrezvan94Harassment_Appearance',),\n",
                            " ('badwords_ex_mrezvan94Harassment_Generic',),\n",
                            " ('badwords_ex_mrezvan94Harassment_Intelligence',),\n",
                            " ('badwords_ex_mrezvan94Harassment_Politics',),\n",
                            " ('badwords_ex_mrezvan94Harassment_Racial',),\n",
                            " ('badwords_ex_mrezvan94Harassment_Sexual',),\n",
                            " ('badwords_ex_swearing_any',),\n",
                            " ('body_text',),\n",
                            " ('computed_badwords_googleInstantB_any',),\n",
                            " ('computed_badwords_mrezvan94Harassment_Appearance',),\n",
                            " ('computed_badwords_mrezvan94Harassment_Generic',),\n",
                            " ('computed_badwords_mrezvan94Harassment_Intelligence',),\n",
                            " ('computed_badwords_mrezvan94Harassment_Politics',),\n",
                            " ('computed_badwords_mrezvan94Harassment_Racial',),\n",
                            " ('computed_badwords_mrezvan94Harassment_Sexual',),\n",
                            " ('computed_badwords_swearing_any',),\n",
                            " ('flagged_abuse',),\n",
                            " ('origin_filename',),\n",
                            " ('subject',)]"
                        ]
                    },
                    "execution_count": 5,
                    "metadata": {},
                    "output_type": "execute_result"
                }
            ],
            "source": [
                "# All attributes for all message entities\n",
                "# NOTE: Same as above, except for the absences of 'email' and 'name' (these are only for person presumably), and 'message' (only for commits presumably)\n",
                "mkeys = sess.query(sa.func.jsonb_object_keys(sch.FusedEntity.attrs)).where(sch.FusedEntity.type == sch.EntityTypeEnum.message).distinct()\n",
                "sorted(mkeys.all())"
            ]
        },
        {
            "cell_type": "code",
            "execution_count": 9,
            "metadata": {},
            "outputs": [],
            "source": [
                "# Check if flagged_abuse is ever not None\n",
                "fused_entities = sess.query(sch.FusedEntity)\n",
                "count = 0\n",
                "for fe in fused_entities:\n",
                "    if fe.attrs.get('flagged_abuse'):\n",
                "        print(fe.attrs)\n",
                "        print(\"______________________________________\")\n",
                "        count += 1\n",
                "    if count==2:\n",
                "        break\n",
                "\n",
                "# RESULT: flagged_abuse is always None"
            ]
        },
        {
            "cell_type": "markdown",
            "metadata": {},
            "source": [
                "## PEPs"
            ]
        },
        {
            "cell_type": "code",
            "execution_count": 7,
            "metadata": {},
            "outputs": [
                {
                    "name": "stdout",
                    "output_type": "stream",
                    "text": [
                        "[None, '2016-09-mailman-python-ideas.mbox.gz', '1999-08-mailman-python-announce-list.mbox.gz', '2006-11-mailman-python-dev.mbox.gz', '2008-05-mailman-python-announce-list.mbox.gz', '2018-10-pipermail-python-announce-list.txt.gz', '2016-02-mailman-python-dev.mbox.gz', '2018-07-mailman-python-ideas.mbox.gz', '2007-01-mailman-python-announce-list.mbox.gz', '2006-08-pipermail-python-list.txt.gz', '2007-02-pipermail-python-ideas.txt.gz', '2014-02-pipermail-python-ideas.txt.gz', '2017-11-pipermail-python-list.txt.gz', '2003-06-pipermail-python-list.txt.gz', '2018-03-pipermail-python-list.txt.gz', '2006-07-pipermail-python-dev.txt.gz', '2005-05-pipermail-python-list.txt.gz', '2015-01-pipermail-python-announce-list.txt.gz', '2017-03-pipermail-python-dev.txt.gz', '2008-10-pipermail-python-dev.txt.gz', '2003-05-mailman-python-announce-list.mbox.gz', '2016-07-pipermail-python-list.txt.gz', '2018-05-pipermail-python-list.txt.gz', '2012-12-mailman-python-announce-list.mbox.gz', '2021-04-mailman-python-announce-list.mbox.gz', '2014-08-pipermail-python-ideas.txt.gz', '2001-06-mailman-python-dev.mbox.gz', '2001-01-mailman-python-announce-list.mbox.gz', '2003-04-mailman-python-announce-list.mbox.gz', '2009-04-pipermail-python-ideas.txt.gz', '2009-05-mailman-python-dev.mbox.gz', '2017-01-pipermail-python-announce-list.txt.gz', '2015-12-pipermail-python-ideas.txt.gz', '2000-06-pipermail-python-list.txt.gz', '2019-10-mailman-python-dev.mbox.gz', '2007-03-pipermail-python-dev.txt.gz', '2007-01-pipermail-python-ideas.txt.gz', '2002-12-pipermail-python-dev.txt.gz', '2002-12-mailman-python-announce-list.mbox.gz', '2020-08-mailman-python-ideas.mbox.gz', '2012-06-pipermail-python-announce-list.txt.gz', '2007-09-mailman-python-announce-list.mbox.gz', '2011-11-pipermail-python-list.txt.gz', '2001-08-mailman-python-announce-list.mbox.gz', '1999-10-mailman-python-announce-list.mbox.gz', '2016-06-pipermail-python-dev.txt.gz', '2000-02-mailman-python-dev.mbox.gz', '2015-06-mailman-python-announce-list.mbox.gz', '2002-02-pipermail-python-announce-list.txt.gz', '2015-11-pipermail-python-announce-list.txt.gz', '1999-04-mailman-python-dev.mbox.gz', '2018-08-pipermail-python-dev.txt.gz', '2004-03-pipermail-python-dev.txt.gz', '2003-12-pipermail-python-announce-list.txt.gz', '2015-12-pipermail-python-list.txt.gz', '2020-02-mailman-python-ideas.mbox.gz', '2003-02-mailman-python-announce-list.mbox.gz', '2000-03-pipermail-python-dev.txt.gz', '2013-10-mailman-python-announce-list.mbox.gz', '2002-02-mailman-python-announce-list.mbox.gz', '2016-07-mailman-python-dev.mbox.gz', '2002-04-pipermail-python-dev.txt.gz', '2013-05-pipermail-python-dev.txt.gz', '2016-09-mailman-python-dev.mbox.gz', '2004-08-mailman-python-dev.mbox.gz', '2009-01-mailman-python-dev.mbox.gz', '2006-03-pipermail-python-dev.txt.gz', '2000-07-pipermail-python-list.txt.gz', '2011-07-pipermail-python-announce-list.txt.gz', '2008-03-mailman-python-announce-list.mbox.gz', '2008-06-mailman-python-dev.mbox.gz', '2018-01-pipermail-python-announce-list.txt.gz', '2007-12-mailman-python-ideas.mbox.gz', '2008-12-mailman-python-announce-list.mbox.gz', '2010-02-pipermail-python-dev.txt.gz', '2008-08-pipermail-python-announce-list.txt.gz', '2007-09-pipermail-python-announce-list.txt.gz', '2015-07-pipermail-python-ideas.txt.gz', '2019-04-pipermail-python-announce-list.txt.gz', '2012-02-mailman-python-ideas.mbox.gz', '2004-03-mailman-python-dev.mbox.gz', '1999-09-mailman-python-dev.mbox.gz', '2014-12-pipermail-python-ideas.txt.gz', '2013-01-pipermail-python-list.txt.gz', '2011-01-mailman-python-announce-list.mbox.gz', '2000-02-mailman-python-announce-list.mbox.gz', '2000-04-pipermail-python-list.txt.gz', '2011-01-pipermail-python-announce-list.txt.gz', '2012-06-mailman-python-dev.mbox.gz', '2000-09-mailman-python-dev.mbox.gz', '2018-02-mailman-python-dev.mbox.gz', '2020-04-pipermail-python-list.txt.gz', '2000-12-mailman-python-announce-list.mbox.gz', '2008-04-pipermail-python-ideas.txt.gz', '2001-01-mailman-python-dev.mbox.gz', '2013-10-mailman-python-ideas.mbox.gz', '2007-09-pipermail-python-ideas.txt.gz', '2000-01-pipermail-python-announce-list.txt.gz', '2009-04-mailman-python-dev.mbox.gz', '2007-11-pipermail-python-ideas.txt.gz', '2014-08-mailman-python-announce-list.mbox.gz', '2009-09-mailman-python-ideas.mbox.gz', '2015-08-pipermail-python-dev.txt.gz', '1999-12-mailman-python-announce-list.mbox.gz', '2017-02-pipermail-python-dev.txt.gz', '1999-11-pipermail-python-announce-list.txt.gz', '2017-05-pipermail-python-dev.txt.gz', '2018-08-mailman-python-dev.mbox.gz', '2008-01-pipermail-python-announce-list.txt.gz', '2013-04-pipermail-python-list.txt.gz', '2000-09-pipermail-python-list.txt.gz', '2008-12-mailman-python-dev.mbox.gz', '2018-07-pipermail-python-ideas.txt.gz', '2013-01-pipermail-python-announce-list.txt.gz', '2008-10-mailman-python-ideas.mbox.gz', '2018-09-pipermail-python-dev.txt.gz', '2009-12-pipermail-python-ideas.txt.gz', '2018-05-mailman-python-ideas.mbox.gz', '2008-11-mailman-python-announce-list.mbox.gz', '2014-01-mailman-python-dev.mbox.gz', '2002-11-pipermail-python-list.txt.gz', '2014-01-pipermail-python-list.txt.gz', '2012-06-pipermail-python-ideas.txt.gz', '2013-10-pipermail-python-ideas.txt.gz', '2011-09-pipermail-python-dev.txt.gz', '2000-09-pipermail-python-announce-list.txt.gz', '2015-06-pipermail-python-dev.txt.gz', '2020-01-pipermail-python-list.txt.gz', '2009-09-pipermail-python-dev.txt.gz', '2018-03-mailman-python-dev.mbox.gz', '2011-02-mailman-python-announce-list.mbox.gz', '2008-06-pipermail-python-ideas.txt.gz', '2011-05-pipermail-python-announce-list.txt.gz', '2014-04-mailman-python-dev.mbox.gz', '2013-02-pipermail-python-announce-list.txt.gz', '2001-09-pipermail-python-dev.txt.gz', '2011-10-mailman-python-announce-list.mbox.gz', '2012-07-mailman-python-ideas.mbox.gz', '2012-03-mailman-python-ideas.mbox.gz', '2011-09-mailman-python-dev.mbox.gz', '2019-11-mailman-python-announce-list.mbox.gz', '2014-07-mailman-python-announce-list.mbox.gz', '2006-05-pipermail-python-announce-list.txt.gz', '2005-04-pipermail-python-list.txt.gz', '2002-01-pipermail-python-announce-list.txt.gz', '2012-08-pipermail-python-announce-list.txt.gz', '2012-03-pipermail-python-ideas.txt.gz', '2019-05-pipermail-python-list.txt.gz', '2011-04-pipermail-python-dev.txt.gz', '2007-02-mailman-python-announce-list.mbox.gz', '2018-09-pipermail-python-announce-list.txt.gz', '2012-05-mailman-python-ideas.mbox.gz', '2001-10-pipermail-python-list.txt.gz', '2002-10-pipermail-python-announce-list.txt.gz', '2020-07-mailman-python-announce-list.mbox.gz', '2006-02-pipermail-python-dev.txt.gz', '2016-01-mailman-python-dev.mbox.gz', '2003-10-mailman-python-dev.mbox.gz', '2013-09-pipermail-python-dev.txt.gz', '2019-04-pipermail-python-list.txt.gz', '2002-03-pipermail-python-announce-list.txt.gz', '2017-03-mailman-python-dev.mbox.gz', '2011-09-pipermail-python-ideas.txt.gz', '2017-06-pipermail-python-ideas.txt.gz', '2016-11-pipermail-python-list.txt.gz', '2014-08-pipermail-python-list.txt.gz', '2003-09-pipermail-python-list.txt.gz', '2015-08-pipermail-python-list.txt.gz', '2000-08-pipermail-python-announce-list.txt.gz', '2014-05-mailman-python-announce-list.mbox.gz', '2001-09-pipermail-python-list.txt.gz', '2013-06-pipermail-python-announce-list.txt.gz', '2012-08-mailman-python-ideas.mbox.gz', '2014-04-pipermail-python-dev.txt.gz', '2007-12-mailman-python-announce-list.mbox.gz', '1999-06-pipermail-python-announce-list.txt.gz', '2012-11-mailman-python-dev.mbox.gz', '2000-10-mailman-python-announce-list.mbox.gz', '2002-11-pipermail-python-dev.txt.gz', '2013-09-pipermail-python-list.txt.gz', '2003-12-mailman-python-announce-list.mbox.gz', '2012-09-pipermail-python-ideas.txt.gz', '2011-11-pipermail-python-announce-list.txt.gz', '2006-04-mailman-python-dev.mbox.gz', '2020-02-pipermail-python-list.txt.gz', '2015-07-mailman-python-announce-list.mbox.gz', '2016-08-mailman-python-announce-list.mbox.gz', '2007-08-pipermail-python-list.txt.gz', '2012-11-pipermail-python-announce-list.txt.gz', '2012-05-mailman-python-announce-list.mbox.gz', '2009-08-mailman-python-ideas.mbox.gz', '2007-05-mailman-python-dev.mbox.gz', '2010-06-mailman-python-dev.mbox.gz', '2014-04-mailman-python-announce-list.mbox.gz', '2012-09-mailman-python-dev.mbox.gz', '2014-03-pipermail-python-list.txt.gz', '2001-11-pipermail-python-dev.txt.gz', '2016-12-mailman-python-dev.mbox.gz', '2016-08-mailman-python-ideas.mbox.gz', '2012-10-pipermail-python-ideas.txt.gz', '2002-08-mailman-python-announce-list.mbox.gz', '2008-03-pipermail-python-announce-list.txt.gz', '2007-01-pipermail-python-announce-list.txt.gz', '1995-03-pipermail-python-dev.txt.gz', '2019-09-mailman-python-ideas.mbox.gz', '2010-02-pipermail-python-announce-list.txt.gz', '2005-10-pipermail-python-dev.txt.gz', '2014-02-mailman-python-dev.mbox.gz', '2015-10-mailman-python-announce-list.mbox.gz', '2002-09-mailman-python-dev.mbox.gz', '2005-07-pipermail-python-list.txt.gz', '2017-12-pipermail-python-list.txt.gz', '2010-02-pipermail-python-ideas.txt.gz', '2012-05-mailman-python-dev.mbox.gz', '1999-06-pipermail-python-list.txt.gz', '2004-12-pipermail-python-announce-list.txt.gz', '2003-09-pipermail-python-dev.txt.gz', '2014-12-pipermail-python-list.txt.gz', '2004-09-mailman-python-announce-list.mbox.gz', '2003-04-pipermail-python-list.txt.gz', '2006-04-mailman-python-announce-list.mbox.gz', '2011-08-mailman-python-announce-list.mbox.gz', '2013-01-pipermail-python-dev.txt.gz', '2019-03-pipermail-python-dev.txt.gz', '2013-03-mailman-python-announce-list.mbox.gz', '2014-11-mailman-python-announce-list.mbox.gz', '2015-03-mailman-python-dev.mbox.gz', '2015-02-pipermail-python-list.txt.gz', '2017-02-pipermail-python-list.txt.gz', '2016-01-pipermail-python-dev.txt.gz', '2004-10-pipermail-python-dev.txt.gz', '2007-11-pipermail-python-dev.txt.gz', '2017-08-pipermail-python-dev.txt.gz', '2016-04-mailman-python-ideas.mbox.gz', '2002-02-mailman-python-dev.mbox.gz', '2001-07-pipermail-python-announce-list.txt.gz', '2020-01-mailman-python-dev.mbox.gz', '2003-10-pipermail-python-announce-list.txt.gz', '2018-05-pipermail-python-dev.txt.gz', '2004-02-pipermail-python-list.txt.gz', '2013-12-pipermail-python-announce-list.txt.gz', '2014-11-pipermail-python-list.txt.gz', '2012-02-pipermail-python-dev.txt.gz', '2014-03-mailman-python-announce-list.mbox.gz', '2009-03-mailman-python-ideas.mbox.gz', '2007-08-mailman-python-dev.mbox.gz', '2016-02-pipermail-python-dev.txt.gz', '2005-02-mailman-python-dev.mbox.gz', '2021-03-mailman-python-dev.mbox.gz', '2010-05-pipermail-python-announce-list.txt.gz', '2011-05-pipermail-python-ideas.txt.gz', '2009-01-pipermail-python-announce-list.txt.gz', '2002-12-mailman-python-dev.mbox.gz', '2012-07-pipermail-python-ideas.txt.gz', '2002-05-pipermail-python-announce-list.txt.gz', '2011-07-pipermail-python-ideas.txt.gz', '2002-05-mailman-python-dev.mbox.gz', '2017-03-pipermail-python-list.txt.gz', '2009-07-pipermail-python-ideas.txt.gz', '2014-10-mailman-python-dev.mbox.gz', '2016-03-pipermail-python-list.txt.gz', '2008-06-mailman-python-ideas.mbox.gz', '2006-06-pipermail-python-dev.txt.gz', '2011-08-pipermail-python-dev.txt.gz', '2019-04-pipermail-python-dev.txt.gz', '2005-12-pipermail-python-announce-list.txt.gz', '2005-06-mailman-python-dev.mbox.gz', '2018-06-mailman-python-ideas.mbox.gz', '2000-11-pipermail-python-list.txt.gz', '2013-11-mailman-python-dev.mbox.gz', '2013-03-mailman-python-ideas.mbox.gz', '2007-10-mailman-python-ideas.mbox.gz', '2016-03-mailman-python-announce-list.mbox.gz', '2011-09-mailman-python-announce-list.mbox.gz', '2002-12-pipermail-python-list.txt.gz', '2006-10-pipermail-python-dev.txt.gz', '2017-09-pipermail-python-dev.txt.gz', '2008-07-mailman-python-ideas.mbox.gz', '2011-04-pipermail-python-announce-list.txt.gz', '2002-07-mailman-python-announce-list.mbox.gz', '2005-10-mailman-python-dev.mbox.gz', '2019-01-mailman-python-announce-list.mbox.gz', '2019-06-mailman-python-dev.mbox.gz', '2017-05-pipermail-python-announce-list.txt.gz', '2010-08-mailman-python-dev.mbox.gz', '2018-10-mailman-python-dev.mbox.gz', '2015-07-mailman-python-ideas.mbox.gz', '2019-06-mailman-python-announce-list.mbox.gz', '2006-06-pipermail-python-announce-list.txt.gz', '2007-05-mailman-python-ideas.mbox.gz', '2021-04-pipermail-python-list.txt.gz', '2016-06-pipermail-python-ideas.txt.gz', '2017-01-mailman-python-ideas.mbox.gz', '2009-06-pipermail-python-announce-list.txt.gz', '2014-09-mailman-python-ideas.mbox.gz', '2010-10-pipermail-python-announce-list.txt.gz', '2003-04-pipermail-python-dev.txt.gz', '2011-05-mailman-python-dev.mbox.gz', '2002-08-pipermail-python-announce-list.txt.gz', '2017-04-mailman-python-ideas.mbox.gz', '2017-02-mailman-python-dev.mbox.gz', '2015-01-mailman-python-announce-list.mbox.gz', '2000-10-mailman-python-dev.mbox.gz', '2007-11-mailman-python-announce-list.mbox.gz', '1999-10-pipermail-python-dev.txt.gz', '2006-07-pipermail-python-announce-list.txt.gz', '2007-02-pipermail-python-announce-list.txt.gz', '2003-03-pipermail-python-announce-list.txt.gz', '2005-01-pipermail-python-announce-list.txt.gz', '2017-07-mailman-python-dev.mbox.gz', '2015-07-pipermail-python-dev.txt.gz', '2015-09-mailman-python-ideas.mbox.gz', '2015-05-pipermail-python-announce-list.txt.gz', '2000-03-mailman-python-dev.mbox.gz', '2015-12-pipermail-python-announce-list.txt.gz', '2019-07-mailman-python-ideas.mbox.gz', '2010-01-pipermail-python-ideas.txt.gz', '2017-10-pipermail-python-ideas.txt.gz', '2013-11-pipermail-python-dev.txt.gz', '2015-11-mailman-python-ideas.mbox.gz', '2001-06-pipermail-python-announce-list.txt.gz', '2014-03-pipermail-python-dev.txt.gz', '2004-04-pipermail-python-dev.txt.gz', '2011-10-pipermail-python-list.txt.gz', '2012-12-pipermail-python-announce-list.txt.gz', '2003-04-pipermail-python-announce-list.txt.gz', '2010-05-mailman-python-dev.mbox.gz', '2000-01-mailman-python-announce-list.mbox.gz', '2001-03-mailman-python-dev.mbox.gz', '2017-01-pipermail-python-dev.txt.gz', '2017-04-pipermail-python-dev.txt.gz', '2016-12-pipermail-python-list.txt.gz', '2002-03-mailman-python-announce-list.mbox.gz', '2016-02-mailman-python-announce-list.mbox.gz', '2004-05-pipermail-python-dev.txt.gz', '2000-02-pipermail-python-announce-list.txt.gz', '2011-02-pipermail-python-list.txt.gz', '2009-10-pipermail-python-dev.txt.gz', '2007-07-pipermail-python-dev.txt.gz', '2018-02-pipermail-python-list.txt.gz', '2003-03-pipermail-python-dev.txt.gz', '2016-09-pipermail-python-dev.txt.gz', '2017-10-pipermail-python-dev.txt.gz', '2011-09-pipermail-python-list.txt.gz', '2012-09-pipermail-python-announce-list.txt.gz', '2007-01-pipermail-python-dev.txt.gz', '2015-12-pipermail-python-dev.txt.gz', '2011-08-mailman-python-ideas.mbox.gz', '2000-02-pipermail-python-dev.txt.gz', '2016-05-pipermail-python-ideas.txt.gz', '2018-09-pipermail-python-list.txt.gz', '2006-11-pipermail-python-dev.txt.gz', '2018-01-pipermail-python-ideas.txt.gz', '2016-07-pipermail-python-announce-list.txt.gz', '2002-10-mailman-python-dev.mbox.gz', '2016-11-mailman-python-dev.mbox.gz', '2019-07-mailman-python-dev.mbox.gz', '2013-01-pipermail-python-ideas.txt.gz', '2006-01-pipermail-python-dev.txt.gz', '2016-10-mailman-python-dev.mbox.gz', '2003-11-pipermail-python-dev.txt.gz', '2006-03-mailman-python-announce-list.mbox.gz', '2009-02-pipermail-python-ideas.txt.gz', '2019-01-pipermail-python-announce-list.txt.gz', '2009-10-mailman-python-announce-list.mbox.gz', '2005-10-pipermail-python-announce-list.txt.gz', '2016-12-pipermail-python-ideas.txt.gz', '2014-10-pipermail-python-dev.txt.gz', '2017-02-pipermail-python-ideas.txt.gz', '2015-09-pipermail-python-ideas.txt.gz', '2019-02-pipermail-python-dev.txt.gz', '2001-07-mailman-python-announce-list.mbox.gz', '2008-05-mailman-python-ideas.mbox.gz', '2015-04-mailman-python-ideas.mbox.gz', '2006-10-mailman-python-dev.mbox.gz', '2012-03-pipermail-python-announce-list.txt.gz', '2002-01-pipermail-python-dev.txt.gz', '2020-02-mailman-python-announce-list.mbox.gz', '2015-01-pipermail-python-list.txt.gz', '2016-05-pipermail-python-dev.txt.gz', '2009-10-pipermail-python-ideas.txt.gz', '2018-03-mailman-python-ideas.mbox.gz', '2010-01-pipermail-python-announce-list.txt.gz', '2003-03-mailman-python-announce-list.mbox.gz', '2002-02-pipermail-python-dev.txt.gz', '2013-11-pipermail-python-list.txt.gz', '2019-03-mailman-python-dev.mbox.gz', '2015-04-pipermail-python-list.txt.gz', '2001-06-pipermail-python-dev.txt.gz', '2013-03-pipermail-python-list.txt.gz', '2011-10-mailman-python-ideas.mbox.gz', '2000-12-pipermail-python-announce-list.txt.gz', '2011-01-pipermail-python-ideas.txt.gz', '2002-09-pipermail-python-list.txt.gz', '2006-07-mailman-python-announce-list.mbox.gz', '2017-03-pipermail-python-ideas.txt.gz', '2002-04-mailman-python-announce-list.mbox.gz', '2015-12-mailman-python-ideas.mbox.gz', '2010-08-pipermail-python-dev.txt.gz', '2019-03-pipermail-python-announce-list.txt.gz', '2000-03-pipermail-python-list.txt.gz', '2012-09-pipermail-python-dev.txt.gz', '2016-01-pipermail-python-announce-list.txt.gz', '2006-09-mailman-python-dev.mbox.gz', '2011-12-mailman-python-ideas.mbox.gz', '2004-06-mailman-python-announce-list.mbox.gz', '2003-01-mailman-python-dev.mbox.gz', '2010-12-pipermail-python-announce-list.txt.gz', '2003-08-pipermail-python-dev.txt.gz', '2012-09-mailman-python-announce-list.mbox.gz', '2003-06-pipermail-python-dev.txt.gz', '2020-09-mailman-python-ideas.mbox.gz', '2014-05-pipermail-python-announce-list.txt.gz', '2013-06-mailman-python-announce-list.mbox.gz', '2011-06-pipermail-python-dev.txt.gz', '2013-05-mailman-python-ideas.mbox.gz', '1999-10-pipermail-python-announce-list.txt.gz', '2013-12-pipermail-python-dev.txt.gz', '2014-10-pipermail-python-list.txt.gz', '2002-05-pipermail-python-list.txt.gz', '2003-01-mailman-python-announce-list.mbox.gz', '2006-12-mailman-python-dev.mbox.gz', '2017-07-mailman-python-announce-list.mbox.gz', '2017-05-pipermail-python-list.txt.gz', '2005-09-pipermail-python-announce-list.txt.gz', '2005-03-mailman-python-dev.mbox.gz', '2007-08-pipermail-python-announce-list.txt.gz', '2007-03-pipermail-python-announce-list.txt.gz', '2008-07-mailman-python-announce-list.mbox.gz', '1999-09-pipermail-python-announce-list.txt.gz', '2004-04-pipermail-python-announce-list.txt.gz', '2007-12-pipermail-python-announce-list.txt.gz', '2010-06-pipermail-python-ideas.txt.gz', '2001-12-pipermail-python-list.txt.gz', '2004-05-pipermail-python-list.txt.gz', '1999-05-mailman-python-dev.mbox.gz', '2013-04-mailman-python-ideas.mbox.gz', '2014-07-pipermail-python-announce-list.txt.gz', '2009-10-mailman-python-dev.mbox.gz', '2006-09-pipermail-python-dev.txt.gz', '2004-05-pipermail-python-announce-list.txt.gz', '2014-06-mailman-python-dev.mbox.gz', '2018-03-mailman-python-announce-list.mbox.gz', '2001-11-pipermail-python-announce-list.txt.gz', '2008-01-pipermail-python-dev.txt.gz', '2011-04-mailman-python-dev.mbox.gz', '2005-05-pipermail-python-announce-list.txt.gz', '2017-05-pipermail-python-ideas.txt.gz', '2021-02-pipermail-python-list.txt.gz', '2008-10-mailman-python-announce-list.mbox.gz', '2015-02-pipermail-python-ideas.txt.gz', '2017-08-mailman-python-dev.mbox.gz', '2008-10-pipermail-python-ideas.txt.gz', '2010-06-pipermail-python-announce-list.txt.gz', '2000-03-pipermail-python-announce-list.txt.gz', '2018-07-pipermail-python-announce-list.txt.gz', '2011-08-pipermail-python-list.txt.gz', '2002-03-pipermail-python-list.txt.gz', '2006-11-pipermail-python-list.txt.gz', '2020-05-mailman-python-announce-list.mbox.gz', '2013-10-pipermail-python-dev.txt.gz', '2013-06-pipermail-python-list.txt.gz', '2010-11-mailman-python-ideas.mbox.gz', '2008-08-pipermail-python-ideas.txt.gz', '2018-04-pipermail-python-dev.txt.gz', '2004-04-pipermail-python-list.txt.gz', '2006-10-pipermail-python-announce-list.txt.gz', '2008-01-pipermail-python-ideas.txt.gz', '2009-05-mailman-python-ideas.mbox.gz', '2006-12-pipermail-python-announce-list.txt.gz', '2010-03-mailman-python-dev.mbox.gz', '2011-05-pipermail-python-dev.txt.gz', '2021-03-mailman-python-announce-list.mbox.gz', '2020-10-pipermail-python-list.txt.gz', '2019-02-pipermail-python-list.txt.gz', '2014-12-mailman-python-dev.mbox.gz', '2015-08-mailman-python-ideas.mbox.gz', '2017-03-pipermail-python-announce-list.txt.gz', '2001-08-mailman-python-dev.mbox.gz', '2015-11-mailman-python-dev.mbox.gz', '2002-08-pipermail-python-list.txt.gz', '2001-04-pipermail-python-dev.txt.gz', '2010-12-mailman-python-dev.mbox.gz', '2011-10-pipermail-python-dev.txt.gz', '2018-12-mailman-python-announce-list.mbox.gz', '2018-04-pipermail-python-ideas.txt.gz', '2020-05-mailman-python-dev.mbox.gz', '2001-03-mailman-python-announce-list.mbox.gz', '2010-04-pipermail-python-dev.txt.gz', '2016-10-pipermail-python-dev.txt.gz', '2008-03-pipermail-python-dev.txt.gz', '2010-11-mailman-python-dev.mbox.gz', '2006-02-mailman-python-announce-list.mbox.gz', '2000-08-mailman-python-announce-list.mbox.gz', '2016-12-mailman-python-announce-list.mbox.gz', '2008-03-mailman-python-dev.mbox.gz', '2017-07-pipermail-python-announce-list.txt.gz', '2011-04-mailman-python-ideas.mbox.gz', '2017-09-pipermail-python-ideas.txt.gz', '2009-08-pipermail-python-announce-list.txt.gz', '2018-06-mailman-python-announce-list.mbox.gz', '2009-11-mailman-python-ideas.mbox.gz', '2012-10-pipermail-python-list.txt.gz', '2019-09-pipermail-python-list.txt.gz', '2009-02-pipermail-python-announce-list.txt.gz', '2003-07-pipermail-python-dev.txt.gz', '2013-07-pipermail-python-list.txt.gz', '2000-05-pipermail-python-list.txt.gz', '2017-08-mailman-python-ideas.mbox.gz', '2009-01-pipermail-python-dev.txt.gz', '2003-11-mailman-python-announce-list.mbox.gz', '2007-08-mailman-python-ideas.mbox.gz', '2004-02-mailman-python-dev.mbox.gz', '2010-05-pipermail-python-dev.txt.gz', '2010-02-mailman-python-dev.mbox.gz', '2012-03-pipermail-python-dev.txt.gz', '2001-09-mailman-python-announce-list.mbox.gz', '2019-04-mailman-python-dev.mbox.gz', '2010-10-mailman-python-announce-list.mbox.gz', '2020-12-mailman-python-announce-list.mbox.gz', '2001-04-mailman-python-announce-list.mbox.gz', '2018-12-pipermail-python-list.txt.gz', '2016-10-pipermail-python-ideas.txt.gz', '2018-06-mailman-python-dev.mbox.gz', '2005-11-mailman-python-announce-list.mbox.gz', '2013-08-pipermail-python-dev.txt.gz', '2008-05-mailman-python-dev.mbox.gz', '2010-12-mailman-python-ideas.mbox.gz', '2014-12-mailman-python-ideas.mbox.gz', '2013-07-pipermail-python-announce-list.txt.gz', '2004-05-mailman-python-dev.mbox.gz', '2006-10-mailman-python-announce-list.mbox.gz', '2015-11-pipermail-python-ideas.txt.gz', '2013-12-mailman-python-ideas.mbox.gz', '2003-03-pipermail-python-list.txt.gz', '2008-04-mailman-python-dev.mbox.gz', '2005-08-pipermail-python-list.txt.gz', '2017-04-pipermail-python-announce-list.txt.gz', '2013-12-mailman-python-dev.mbox.gz', '2009-05-pipermail-python-ideas.txt.gz', '2004-03-pipermail-python-list.txt.gz', '2012-11-pipermail-python-dev.txt.gz', '2018-08-mailman-python-ideas.mbox.gz', '1999-02-pipermail-python-list.txt.gz', '2010-12-pipermail-python-list.txt.gz', '2020-04-mailman-python-dev.mbox.gz', '2004-03-mailman-python-announce-list.mbox.gz', '2014-03-pipermail-python-ideas.txt.gz', '2003-08-mailman-python-announce-list.mbox.gz', '2015-07-mailman-python-dev.mbox.gz', '2000-11-mailman-python-announce-list.mbox.gz', '2017-09-mailman-python-dev.mbox.gz', '2001-02-mailman-python-dev.mbox.gz', '2004-05-mailman-python-announce-list.mbox.gz', '2016-04-pipermail-python-list.txt.gz', '2015-06-pipermail-python-ideas.txt.gz', '2002-06-pipermail-python-dev.txt.gz', '2002-06-mailman-python-announce-list.mbox.gz', '2019-05-mailman-python-dev.mbox.gz', '2020-12-mailman-python-dev.mbox.gz', '2007-05-pipermail-python-announce-list.txt.gz', '2017-06-pipermail-python-list.txt.gz', '2018-12-pipermail-python-announce-list.txt.gz', '2018-02-mailman-python-ideas.mbox.gz', '1999-05-pipermail-python-dev.txt.gz', '2014-02-mailman-python-announce-list.mbox.gz', '2015-04-mailman-python-announce-list.mbox.gz', '2010-06-mailman-python-announce-list.mbox.gz', '2007-09-pipermail-python-dev.txt.gz', '2016-10-mailman-python-ideas.mbox.gz', '2016-11-mailman-python-ideas.mbox.gz', '2014-08-mailman-python-ideas.mbox.gz', '2013-04-mailman-python-announce-list.mbox.gz', '2004-10-pipermail-python-announce-list.txt.gz', '2006-01-mailman-python-dev.mbox.gz', '2014-09-pipermail-python-ideas.txt.gz', '2008-04-pipermail-python-dev.txt.gz', '1999-11-mailman-python-announce-list.mbox.gz', '2015-04-mailman-python-dev.mbox.gz', '2011-03-mailman-python-announce-list.mbox.gz', '2016-01-mailman-python-ideas.mbox.gz', '2007-10-pipermail-python-ideas.txt.gz', '2021-01-mailman-python-ideas.mbox.gz', '2019-08-mailman-python-ideas.mbox.gz', '2019-10-mailman-python-announce-list.mbox.gz', '2020-09-mailman-python-announce-list.mbox.gz', '2020-10-mailman-python-dev.mbox.gz', '2001-12-pipermail-python-dev.txt.gz', '2011-08-pipermail-python-ideas.txt.gz', '2019-01-pipermail-python-ideas.txt.gz', '2002-11-mailman-python-announce-list.mbox.gz', '2002-08-mailman-python-dev.mbox.gz', '2011-04-mailman-python-announce-list.mbox.gz', '2018-04-mailman-python-ideas.mbox.gz', '2017-09-pipermail-python-announce-list.txt.gz', '2013-02-mailman-python-announce-list.mbox.gz', '2005-04-pipermail-python-announce-list.txt.gz', '2003-07-mailman-python-announce-list.mbox.gz', '2012-09-mailman-python-ideas.mbox.gz', '2020-06-pipermail-python-list.txt.gz', '2016-04-pipermail-python-ideas.txt.gz', '2008-11-mailman-python-dev.mbox.gz', '2009-04-pipermail-python-dev.txt.gz', '2015-01-pipermail-python-ideas.txt.gz', '1999-08-pipermail-python-list.txt.gz', '2020-11-mailman-python-dev.mbox.gz', '2004-12-mailman-python-dev.mbox.gz', '2012-02-pipermail-python-ideas.txt.gz', '2003-07-pipermail-python-list.txt.gz', '2008-04-pipermail-python-announce-list.txt.gz', '2000-07-mailman-python-dev.mbox.gz', '2018-08-pipermail-python-ideas.txt.gz', '2014-05-pipermail-python-list.txt.gz', '2001-03-pipermail-python-announce-list.txt.gz', '2003-06-mailman-python-dev.mbox.gz', '2010-04-mailman-python-dev.mbox.gz', '2017-05-mailman-python-dev.mbox.gz', '2001-12-mailman-python-dev.mbox.gz', '2012-03-pipermail-python-list.txt.gz', '2018-11-mailman-python-dev.mbox.gz', '1999-06-mailman-python-announce-list.mbox.gz', '2012-01-pipermail-python-ideas.txt.gz', '2018-05-mailman-python-announce-list.mbox.gz', '2013-07-mailman-python-ideas.mbox.gz', '2003-02-pipermail-python-announce-list.txt.gz', '2013-07-pipermail-python-dev.txt.gz', '2003-02-pipermail-python-dev.txt.gz', '2015-01-mailman-python-ideas.mbox.gz', '2011-11-mailman-python-dev.mbox.gz', '2014-11-pipermail-python-ideas.txt.gz', '2010-01-mailman-python-announce-list.mbox.gz', '1999-08-pipermail-python-announce-list.txt.gz', '2020-09-mailman-python-dev.mbox.gz', '2012-03-mailman-python-dev.mbox.gz', '2019-11-mailman-python-ideas.mbox.gz', '2014-02-pipermail-python-announce-list.txt.gz', '2015-10-mailman-python-ideas.mbox.gz', '2004-01-pipermail-python-list.txt.gz', '2018-04-pipermail-python-list.txt.gz', '2011-06-mailman-python-announce-list.mbox.gz', '1999-07-mailman-python-dev.mbox.gz', '2017-08-pipermail-python-ideas.txt.gz', '2012-01-mailman-python-dev.mbox.gz', '2016-01-mailman-python-announce-list.mbox.gz', '2018-12-mailman-python-ideas.mbox.gz', '2000-09-pipermail-python-dev.txt.gz', '2014-12-mailman-python-announce-list.mbox.gz', '2007-12-pipermail-python-ideas.txt.gz', '2020-12-pipermail-python-list.txt.gz', '2002-01-mailman-python-dev.mbox.gz', '2014-03-mailman-python-ideas.mbox.gz', '2015-10-mailman-python-dev.mbox.gz', '2006-02-pipermail-python-list.txt.gz', '2006-09-pipermail-python-announce-list.txt.gz', '2017-10-mailman-python-announce-list.mbox.gz', '2002-03-pipermail-python-dev.txt.gz', '2019-01-mailman-python-dev.mbox.gz', '2009-11-pipermail-python-dev.txt.gz', '2012-08-mailman-python-dev.mbox.gz', '2018-11-mailman-python-announce-list.mbox.gz', '2020-04-mailman-python-announce-list.mbox.gz', '2021-04-mailman-python-dev.mbox.gz', '2014-04-pipermail-python-list.txt.gz', '2009-10-mailman-python-ideas.mbox.gz', '2009-04-mailman-python-announce-list.mbox.gz', '2010-03-pipermail-python-ideas.txt.gz', '2014-01-mailman-python-announce-list.mbox.gz', '2000-04-mailman-python-dev.mbox.gz', '2007-08-mailman-python-announce-list.mbox.gz', '2007-12-pipermail-python-list.txt.gz', '2015-04-pipermail-python-ideas.txt.gz', '2009-12-mailman-python-dev.mbox.gz', '2014-01-mailman-python-ideas.mbox.gz', '2004-02-pipermail-python-dev.txt.gz', '2010-02-mailman-python-ideas.mbox.gz', '2018-08-pipermail-python-list.txt.gz', '2017-07-pipermail-python-list.txt.gz', '2019-09-mailman-python-announce-list.mbox.gz', '2014-08-pipermail-python-dev.txt.gz', '2015-02-mailman-python-announce-list.mbox.gz', '2013-12-mailman-python-announce-list.mbox.gz', '2002-01-mailman-python-announce-list.mbox.gz', '2011-02-pipermail-python-dev.txt.gz', '2012-06-pipermail-python-list.txt.gz', '2004-06-mailman-python-dev.mbox.gz', '2012-07-pipermail-python-announce-list.txt.gz', '2018-02-pipermail-python-ideas.txt.gz', '2003-10-pipermail-python-dev.txt.gz', '2007-04-pipermail-python-announce-list.txt.gz', '2008-09-mailman-python-dev.mbox.gz', '2015-06-pipermail-python-announce-list.txt.gz', '2016-08-mailman-python-dev.mbox.gz', '2005-10-mailman-python-announce-list.mbox.gz', '2007-06-mailman-python-ideas.mbox.gz', '2015-10-pipermail-python-dev.txt.gz', '2010-03-pipermail-python-announce-list.txt.gz', '2017-08-pipermail-python-list.txt.gz', '2012-04-pipermail-python-dev.txt.gz', '2010-09-mailman-python-announce-list.mbox.gz', '2008-02-pipermail-python-dev.txt.gz', '1999-05-mailman-python-announce-list.mbox.gz', '2018-02-pipermail-python-dev.txt.gz', '2019-12-mailman-python-ideas.mbox.gz', '2000-09-mailman-python-announce-list.mbox.gz', '2002-07-pipermail-python-list.txt.gz', '2002-07-pipermail-python-dev.txt.gz', '2013-04-pipermail-python-ideas.txt.gz', '2010-02-mailman-python-announce-list.mbox.gz', '2004-07-pipermail-python-dev.txt.gz', '2008-09-mailman-python-announce-list.mbox.gz', '2012-07-pipermail-python-dev.txt.gz', '2017-07-pipermail-python-dev.txt.gz', '2020-06-mailman-python-ideas.mbox.gz', '2009-04-mailman-python-ideas.mbox.gz', '2015-12-mailman-python-dev.mbox.gz', '2012-08-pipermail-python-dev.txt.gz', '2009-08-mailman-python-dev.mbox.gz', '2013-03-pipermail-python-dev.txt.gz', '2001-01-pipermail-python-announce-list.txt.gz', '2006-12-pipermail-python-ideas.txt.gz', '2018-10-mailman-python-announce-list.mbox.gz', '2020-04-mailman-python-ideas.mbox.gz', '2015-12-mailman-python-announce-list.mbox.gz', '2015-03-pipermail-python-ideas.txt.gz', '2012-10-mailman-python-ideas.mbox.gz', '2005-06-pipermail-python-dev.txt.gz', '2005-01-mailman-python-announce-list.mbox.gz', '2010-10-pipermail-python-dev.txt.gz', '2014-08-mailman-python-dev.mbox.gz', '2001-06-mailman-python-announce-list.mbox.gz', '2018-04-mailman-python-announce-list.mbox.gz', '2001-06-pipermail-python-list.txt.gz', '2013-10-pipermail-python-announce-list.txt.gz', '2007-09-mailman-python-ideas.mbox.gz', '2006-03-mailman-python-dev.mbox.gz', '2019-05-pipermail-python-dev.txt.gz', '2019-02-pipermail-python-ideas.txt.gz', '2020-08-mailman-python-announce-list.mbox.gz', '2011-06-mailman-python-ideas.mbox.gz', '2009-05-mailman-python-announce-list.mbox.gz', '2011-02-mailman-python-ideas.mbox.gz', '2007-07-mailman-python-ideas.mbox.gz', '2005-07-pipermail-python-announce-list.txt.gz', '2017-11-mailman-python-ideas.mbox.gz', '2000-12-pipermail-python-dev.txt.gz', '2004-02-pipermail-python-announce-list.txt.gz', '2008-09-mailman-python-ideas.mbox.gz', '2010-10-mailman-python-dev.mbox.gz', '2015-03-mailman-python-announce-list.mbox.gz', '2006-06-mailman-python-dev.mbox.gz', '2008-07-pipermail-python-announce-list.txt.gz', '2015-05-pipermail-python-ideas.txt.gz', '2004-09-pipermail-python-dev.txt.gz', '2016-01-pipermail-python-list.txt.gz', '2002-06-mailman-python-dev.mbox.gz', '2018-06-pipermail-python-list.txt.gz', '2008-01-mailman-python-announce-list.mbox.gz', '2018-02-pipermail-python-announce-list.txt.gz', '2006-04-pipermail-python-dev.txt.gz', '2000-01-pipermail-python-list.txt.gz', '2009-02-mailman-python-announce-list.mbox.gz', '2005-03-pipermail-python-list.txt.gz', '2007-04-mailman-python-announce-list.mbox.gz', '2016-05-pipermail-python-list.txt.gz', '2015-03-mailman-python-ideas.mbox.gz', '2013-04-pipermail-python-dev.txt.gz', '2015-09-pipermail-python-dev.txt.gz', '2016-06-pipermail-python-list.txt.gz', '2016-09-pipermail-python-ideas.txt.gz', '2000-10-pipermail-python-dev.txt.gz', '2012-10-pipermail-python-dev.txt.gz', '2001-08-pipermail-python-dev.txt.gz', '2008-10-pipermail-python-announce-list.txt.gz', '2009-02-mailman-python-dev.mbox.gz', '1999-12-pipermail-python-dev.txt.gz', '2016-05-mailman-python-ideas.mbox.gz', '2007-03-mailman-python-ideas.mbox.gz', '2008-10-mailman-python-dev.mbox.gz', '2005-02-pipermail-python-list.txt.gz', '2017-11-mailman-python-dev.mbox.gz', '2012-05-pipermail-python-announce-list.txt.gz', '2005-12-mailman-python-announce-list.mbox.gz', '2018-11-pipermail-python-ideas.txt.gz', '2012-12-pipermail-python-ideas.txt.gz', '2016-05-mailman-python-announce-list.mbox.gz', '2009-09-pipermail-python-ideas.txt.gz', '2018-06-pipermail-python-ideas.txt.gz', '2017-03-mailman-python-announce-list.mbox.gz', '2009-10-pipermail-python-announce-list.txt.gz', '2008-02-mailman-python-announce-list.mbox.gz', '2008-07-mailman-python-dev.mbox.gz', '2011-08-mailman-python-dev.mbox.gz', '2011-10-mailman-python-dev.mbox.gz', '2017-10-pipermail-python-list.txt.gz', '2012-10-mailman-python-dev.mbox.gz', '2010-10-mailman-python-ideas.mbox.gz', '2012-04-mailman-python-ideas.mbox.gz', '2014-10-pipermail-python-ideas.txt.gz', '2013-09-mailman-python-ideas.mbox.gz', '2017-04-pipermail-python-list.txt.gz', '2014-01-pipermail-python-dev.txt.gz', '2011-04-pipermail-python-ideas.txt.gz', '1999-05-pipermail-python-announce-list.txt.gz', '2013-03-pipermail-python-announce-list.txt.gz', '2014-06-pipermail-python-ideas.txt.gz', '2018-06-pipermail-python-dev.txt.gz', '2011-11-pipermail-python-dev.txt.gz', '1999-09-pipermail-python-list.txt.gz', '2013-05-pipermail-python-announce-list.txt.gz', '2009-11-mailman-python-dev.mbox.gz', '2002-02-pipermail-python-list.txt.gz', '2014-10-pipermail-python-announce-list.txt.gz', '2003-08-pipermail-python-announce-list.txt.gz', '2014-06-mailman-python-announce-list.mbox.gz', '2020-08-pipermail-python-list.txt.gz', '2011-07-pipermail-python-list.txt.gz', '2009-12-pipermail-python-dev.txt.gz', '2004-10-mailman-python-announce-list.mbox.gz', '2019-05-mailman-python-ideas.mbox.gz', '2017-09-mailman-python-announce-list.mbox.gz', '2009-12-pipermail-python-announce-list.txt.gz', '2003-12-pipermail-python-dev.txt.gz', '2014-06-pipermail-python-list.txt.gz', '2002-07-mailman-python-dev.mbox.gz', '2009-03-pipermail-python-announce-list.txt.gz', '2019-11-mailman-python-dev.mbox.gz', '2010-04-mailman-python-announce-list.mbox.gz', '2020-03-mailman-python-ideas.mbox.gz', '2010-09-pipermail-python-list.txt.gz', '2015-05-mailman-python-dev.mbox.gz', '1999-08-pipermail-python-dev.txt.gz', '2017-11-mailman-python-announce-list.mbox.gz', '2016-08-pipermail-python-list.txt.gz', '2013-05-mailman-python-announce-list.mbox.gz', '2004-06-pipermail-python-dev.txt.gz', '2008-12-pipermail-python-dev.txt.gz', '2000-05-pipermail-python-dev.txt.gz', '2004-06-pipermail-python-list.txt.gz', '2016-04-pipermail-python-announce-list.txt.gz', '2000-11-mailman-python-dev.mbox.gz', '2013-08-pipermail-python-list.txt.gz', '2000-08-pipermail-python-dev.txt.gz', '2018-02-mailman-python-announce-list.mbox.gz', '2001-08-pipermail-python-announce-list.txt.gz', '2004-11-pipermail-python-list.txt.gz', '2007-03-mailman-python-announce-list.mbox.gz', '2010-11-mailman-python-announce-list.mbox.gz', '2009-03-mailman-python-dev.mbox.gz', '2012-06-mailman-python-ideas.mbox.gz', '2017-06-pipermail-python-announce-list.txt.gz', '2001-11-mailman-python-dev.mbox.gz', '2011-06-pipermail-python-ideas.txt.gz', '2013-10-mailman-python-dev.mbox.gz', '2016-11-pipermail-python-announce-list.txt.gz', '2015-10-pipermail-python-announce-list.txt.gz', '2003-05-pipermail-python-announce-list.txt.gz', '2016-12-pipermail-python-announce-list.txt.gz', '2008-02-mailman-python-dev.mbox.gz', '2000-10-pipermail-python-list.txt.gz', '2004-04-mailman-python-announce-list.mbox.gz', '2016-09-mailman-python-announce-list.mbox.gz', '2007-01-pipermail-python-list.txt.gz', '2010-03-mailman-python-announce-list.mbox.gz', '2013-09-mailman-python-announce-list.mbox.gz', '2017-10-pipermail-python-announce-list.txt.gz', '2016-07-mailman-python-announce-list.mbox.gz', '2019-04-mailman-python-ideas.mbox.gz', '2012-12-pipermail-python-list.txt.gz', '2019-01-pipermail-python-dev.txt.gz', '2008-12-pipermail-python-announce-list.txt.gz', '2008-06-pipermail-python-dev.txt.gz', '2008-04-mailman-python-announce-list.mbox.gz', '2012-05-pipermail-python-list.txt.gz', '2001-03-pipermail-python-dev.txt.gz', '2004-11-pipermail-python-dev.txt.gz', '2001-02-pipermail-python-dev.txt.gz', '2004-11-mailman-python-announce-list.mbox.gz', '2013-07-mailman-python-announce-list.mbox.gz', '2017-06-mailman-python-ideas.mbox.gz', '2013-09-pipermail-python-announce-list.txt.gz', '2004-07-pipermail-python-announce-list.txt.gz', '2015-11-pipermail-python-dev.txt.gz', '1999-04-mailman-python-announce-list.mbox.gz', '2009-07-mailman-python-ideas.mbox.gz', '2009-02-pipermail-python-dev.txt.gz', '2008-08-mailman-python-ideas.mbox.gz', '2009-07-mailman-python-announce-list.mbox.gz', '2004-09-pipermail-python-announce-list.txt.gz', '2017-12-mailman-python-announce-list.mbox.gz', '2017-06-mailman-python-announce-list.mbox.gz', '2020-05-mailman-python-ideas.mbox.gz', '2009-11-mailman-python-announce-list.mbox.gz', '2014-05-mailman-python-ideas.mbox.gz', '2002-04-pipermail-python-announce-list.txt.gz', '2009-07-pipermail-python-announce-list.txt.gz', '2001-12-mailman-python-announce-list.mbox.gz', '2016-09-pipermail-python-list.txt.gz', '2007-11-mailman-python-dev.mbox.gz', '2019-08-mailman-python-dev.mbox.gz', '2018-07-mailman-python-dev.mbox.gz', '1999-07-pipermail-python-list.txt.gz', '2014-10-mailman-python-ideas.mbox.gz', '2012-01-mailman-python-announce-list.mbox.gz', '1999-08-mailman-python-dev.mbox.gz', '2016-03-mailman-python-ideas.mbox.gz', '2001-04-mailman-python-dev.mbox.gz', '2012-07-mailman-python-dev.mbox.gz', '2012-05-pipermail-python-dev.txt.gz', '2006-11-mailman-python-announce-list.mbox.gz', '2009-06-mailman-python-ideas.mbox.gz', '2019-08-mailman-python-announce-list.mbox.gz', '2010-11-pipermail-python-dev.txt.gz', '2018-01-pipermail-python-dev.txt.gz', '2008-12-mailman-python-ideas.mbox.gz', '2016-08-pipermail-python-announce-list.txt.gz', '2014-03-mailman-python-dev.mbox.gz', '2012-03-mailman-python-announce-list.mbox.gz', '2018-01-pipermail-python-list.txt.gz', '2000-01-mailman-python-dev.mbox.gz', '2017-02-pipermail-python-announce-list.txt.gz', '2017-11-pipermail-python-ideas.txt.gz', '2010-04-pipermail-python-ideas.txt.gz', '2012-04-mailman-python-announce-list.mbox.gz', '2011-08-pipermail-python-announce-list.txt.gz', '2015-11-mailman-python-announce-list.mbox.gz', '2003-08-mailman-python-dev.mbox.gz', '2010-09-mailman-python-dev.mbox.gz', '2002-09-pipermail-python-announce-list.txt.gz', '2013-01-mailman-python-dev.mbox.gz', '2013-11-pipermail-python-announce-list.txt.gz', '2001-10-mailman-python-dev.mbox.gz', '2014-09-pipermail-python-dev.txt.gz', '2004-12-mailman-python-announce-list.mbox.gz', '2014-07-mailman-python-dev.mbox.gz', '2014-05-mailman-python-dev.mbox.gz', '2007-05-pipermail-python-ideas.txt.gz', '2006-04-pipermail-python-list.txt.gz', '2018-11-pipermail-python-dev.txt.gz', '2011-01-pipermail-python-dev.txt.gz', '2009-06-pipermail-python-ideas.txt.gz', '2001-02-pipermail-python-list.txt.gz', '2004-01-mailman-python-dev.mbox.gz', '2010-08-mailman-python-ideas.mbox.gz', '2015-01-mailman-python-dev.mbox.gz', '2011-04-pipermail-python-list.txt.gz', '2003-09-mailman-python-announce-list.mbox.gz', '2006-11-pipermail-python-announce-list.txt.gz', '2021-01-mailman-python-dev.mbox.gz', '2007-01-mailman-python-ideas.mbox.gz', '2005-07-pipermail-python-dev.txt.gz', '2013-04-mailman-python-dev.mbox.gz', '2007-09-pipermail-python-list.txt.gz', '2010-09-pipermail-python-announce-list.txt.gz', '2010-05-mailman-python-ideas.mbox.gz', '2003-07-pipermail-python-announce-list.txt.gz', '2015-05-pipermail-python-list.txt.gz', '2010-11-pipermail-python-ideas.txt.gz', '2020-03-mailman-python-announce-list.mbox.gz', '2017-06-pipermail-python-dev.txt.gz', '2012-10-pipermail-python-announce-list.txt.gz', '2015-03-pipermail-python-dev.txt.gz', '2001-10-pipermail-python-dev.txt.gz', '2011-10-pipermail-python-announce-list.txt.gz', '2001-05-mailman-python-announce-list.mbox.gz', '2005-05-mailman-python-dev.mbox.gz', '2009-11-pipermail-python-ideas.txt.gz', '2004-10-mailman-python-dev.mbox.gz', '2017-01-pipermail-python-ideas.txt.gz', '2013-01-mailman-python-announce-list.mbox.gz', '2013-11-mailman-python-ideas.mbox.gz', '2018-10-pipermail-python-list.txt.gz', '2019-03-mailman-python-ideas.mbox.gz', '2016-04-mailman-python-announce-list.mbox.gz', '2011-07-pipermail-python-dev.txt.gz', '2012-01-pipermail-python-list.txt.gz', '2013-09-mailman-python-dev.mbox.gz', '2005-12-mailman-python-dev.mbox.gz', '2000-02-pipermail-python-list.txt.gz', '2005-08-mailman-python-dev.mbox.gz', '2009-07-pipermail-python-dev.txt.gz', '2015-01-pipermail-python-dev.txt.gz', '2015-03-pipermail-python-announce-list.txt.gz', '2008-08-mailman-python-dev.mbox.gz', '2011-11-mailman-python-ideas.mbox.gz', '2006-02-mailman-python-dev.mbox.gz', '2007-05-mailman-python-announce-list.mbox.gz', '2019-10-mailman-python-ideas.mbox.gz', '2017-12-pipermail-python-ideas.txt.gz', '2017-12-pipermail-python-dev.txt.gz', '2008-08-mailman-python-announce-list.mbox.gz', '2018-04-mailman-python-dev.mbox.gz', '2004-03-pipermail-python-announce-list.txt.gz', '2011-12-mailman-python-announce-list.mbox.gz', '2019-03-pipermail-python-list.txt.gz', '2020-08-mailman-python-dev.mbox.gz', '2021-04-mailman-python-ideas.mbox.gz', '1999-11-pipermail-python-list.txt.gz', '2006-07-mailman-python-dev.mbox.gz', '2006-12-pipermail-python-list.txt.gz', '2012-10-mailman-python-announce-list.mbox.gz', '2009-07-mailman-python-dev.mbox.gz', '2014-04-pipermail-python-ideas.txt.gz', '2020-03-mailman-python-dev.mbox.gz', '2005-11-pipermail-python-announce-list.txt.gz', '2014-08-pipermail-python-announce-list.txt.gz', '2010-04-pipermail-python-announce-list.txt.gz', '2013-12-pipermail-python-ideas.txt.gz', '2014-06-mailman-python-ideas.mbox.gz', '2007-12-pipermail-python-dev.txt.gz', '2020-09-pipermail-python-list.txt.gz', '2014-09-mailman-python-announce-list.mbox.gz', '2016-02-pipermail-python-announce-list.txt.gz', '2013-11-mailman-python-announce-list.mbox.gz', '2019-02-pipermail-python-announce-list.txt.gz', '2002-04-mailman-python-dev.mbox.gz', '2014-09-pipermail-python-list.txt.gz', '2017-12-mailman-python-ideas.mbox.gz', '2017-10-mailman-python-ideas.mbox.gz', '2010-09-pipermail-python-ideas.txt.gz', '2011-11-mailman-python-announce-list.mbox.gz', '2012-01-pipermail-python-dev.txt.gz', '2000-11-pipermail-python-dev.txt.gz', '2005-02-mailman-python-announce-list.mbox.gz', '2013-11-pipermail-python-ideas.txt.gz', '1999-07-pipermail-python-announce-list.txt.gz', '2002-06-pipermail-python-announce-list.txt.gz', '2011-01-mailman-python-ideas.mbox.gz', '2017-04-pipermail-python-ideas.txt.gz', '2021-03-pipermail-python-list.txt.gz', '2008-05-pipermail-python-announce-list.txt.gz', '2014-02-mailman-python-ideas.mbox.gz', '1999-03-pipermail-python-list.txt.gz', '2005-09-mailman-python-dev.mbox.gz', '2020-10-mailman-python-ideas.mbox.gz', '2002-06-pipermail-python-list.txt.gz', '2010-01-mailman-python-dev.mbox.gz', '2007-02-mailman-python-ideas.mbox.gz', '2001-08-pipermail-python-list.txt.gz', '2007-07-pipermail-python-list.txt.gz', '2003-10-mailman-python-announce-list.mbox.gz', '2013-07-pipermail-python-ideas.txt.gz', '2010-11-pipermail-python-list.txt.gz', '2005-03-pipermail-python-announce-list.txt.gz', '2017-12-pipermail-python-announce-list.txt.gz', '2012-04-pipermail-python-ideas.txt.gz', '2012-04-pipermail-python-announce-list.txt.gz', '2000-08-pipermail-python-list.txt.gz', '2009-01-mailman-python-ideas.mbox.gz', '2014-01-pipermail-python-announce-list.txt.gz', '2020-05-pipermail-python-list.txt.gz', '2013-05-pipermail-python-ideas.txt.gz', '2000-03-mailman-python-announce-list.mbox.gz', '2013-06-mailman-python-dev.mbox.gz', '2011-01-mailman-python-dev.mbox.gz', '2009-06-mailman-python-announce-list.mbox.gz', '2018-03-pipermail-python-dev.txt.gz', '2009-05-pipermail-python-announce-list.txt.gz', '2006-05-mailman-python-announce-list.mbox.gz', '2013-02-mailman-python-ideas.mbox.gz', '2012-06-pipermail-python-dev.txt.gz', '2020-03-pipermail-python-list.txt.gz', '2016-08-pipermail-python-dev.txt.gz', '2012-11-pipermail-python-list.txt.gz', '2006-01-pipermail-python-announce-list.txt.gz', '2001-05-mailman-python-dev.mbox.gz', '2003-04-mailman-python-dev.mbox.gz', '2014-05-pipermail-python-dev.txt.gz', '2020-02-mailman-python-dev.mbox.gz', '2008-03-pipermail-python-ideas.txt.gz', '1999-06-pipermail-python-dev.txt.gz', '2017-12-mailman-python-dev.mbox.gz', '2010-12-mailman-python-announce-list.mbox.gz', '2012-04-mailman-python-dev.mbox.gz', '2008-11-pipermail-python-ideas.txt.gz', '1999-12-pipermail-python-list.txt.gz', '2000-06-mailman-python-dev.mbox.gz', '2018-12-pipermail-python-ideas.txt.gz', '2012-01-mailman-python-ideas.mbox.gz', '2011-05-mailman-python-ideas.mbox.gz', '2011-06-pipermail-python-announce-list.txt.gz', '2019-06-pipermail-python-list.txt.gz', '2016-07-mailman-python-ideas.mbox.gz', '2006-04-pipermail-python-announce-list.txt.gz', '2009-05-pipermail-python-dev.txt.gz', '2010-12-pipermail-python-dev.txt.gz', '2007-04-pipermail-python-dev.txt.gz', '2005-07-mailman-python-dev.mbox.gz', '2012-11-pipermail-python-ideas.txt.gz', '2019-11-pipermail-python-list.txt.gz', '2014-07-mailman-python-ideas.mbox.gz', '2006-08-pipermail-python-announce-list.txt.gz', '2009-09-mailman-python-announce-list.mbox.gz', '2007-06-pipermail-python-announce-list.txt.gz', '2008-06-mailman-python-announce-list.mbox.gz', '2003-11-pipermail-python-announce-list.txt.gz', '2018-11-mailman-python-ideas.mbox.gz', '2003-12-pipermail-python-list.txt.gz', '2014-09-pipermail-python-announce-list.txt.gz', '2009-03-mailman-python-announce-list.mbox.gz', '2017-09-pipermail-python-list.txt.gz', '2010-05-pipermail-python-ideas.txt.gz', '2005-02-pipermail-python-announce-list.txt.gz', '2005-08-pipermail-python-announce-list.txt.gz', '2010-07-mailman-python-announce-list.mbox.gz', '2011-02-pipermail-python-ideas.txt.gz', '2006-06-mailman-python-announce-list.mbox.gz', '2012-05-pipermail-python-ideas.txt.gz', '2008-08-pipermail-python-dev.txt.gz', '2007-10-pipermail-python-announce-list.txt.gz', '2006-03-pipermail-python-announce-list.txt.gz', '2000-01-pipermail-python-dev.txt.gz', '2018-10-pipermail-python-dev.txt.gz', '2010-01-mailman-python-ideas.mbox.gz', '2012-12-pipermail-python-dev.txt.gz', '2009-03-pipermail-python-dev.txt.gz', '2016-06-pipermail-python-announce-list.txt.gz', '2014-05-pipermail-python-ideas.txt.gz', '2006-08-mailman-python-dev.mbox.gz', '2010-07-mailman-python-dev.mbox.gz', '2016-10-mailman-python-announce-list.mbox.gz', '2010-11-pipermail-python-announce-list.txt.gz', '2005-06-mailman-python-announce-list.mbox.gz', '2015-05-mailman-python-ideas.mbox.gz', '2012-09-pipermail-python-list.txt.gz', '2016-03-pipermail-python-ideas.txt.gz', '2013-02-pipermail-python-list.txt.gz', '2019-09-mailman-python-dev.mbox.gz', '2019-10-pipermail-python-list.txt.gz', '2017-04-mailman-python-announce-list.mbox.gz', '2005-12-pipermail-python-dev.txt.gz', '2015-11-pipermail-python-list.txt.gz', '2000-12-pipermail-python-list.txt.gz', '2020-12-mailman-python-ideas.mbox.gz', '2001-05-pipermail-python-list.txt.gz', '1999-07-pipermail-python-dev.txt.gz', '2017-01-mailman-python-announce-list.mbox.gz', '2018-08-mailman-python-announce-list.mbox.gz', '2005-01-mailman-python-dev.mbox.gz', '2021-01-mailman-python-announce-list.mbox.gz', '2015-08-mailman-python-dev.mbox.gz', '1999-04-pipermail-python-list.txt.gz', '2015-02-mailman-python-ideas.mbox.gz', '2001-09-mailman-python-dev.mbox.gz', '2005-03-pipermail-python-dev.txt.gz', '2003-01-pipermail-python-dev.txt.gz', '2010-06-pipermail-python-dev.txt.gz', '2005-09-pipermail-python-dev.txt.gz', '2019-01-mailman-python-ideas.mbox.gz', '2018-07-pipermail-python-list.txt.gz', '2011-03-pipermail-python-announce-list.txt.gz', '2001-09-pipermail-python-announce-list.txt.gz', '2005-05-mailman-python-announce-list.mbox.gz', '2018-09-mailman-python-dev.mbox.gz', '2019-06-mailman-python-ideas.mbox.gz', '2007-04-mailman-python-dev.mbox.gz', '2002-11-mailman-python-dev.mbox.gz', '2007-03-mailman-python-dev.mbox.gz', '2007-01-mailman-python-dev.mbox.gz', '2004-02-mailman-python-announce-list.mbox.gz', '2015-08-mailman-python-announce-list.mbox.gz', '2007-10-mailman-python-announce-list.mbox.gz', '2019-06-pipermail-python-dev.txt.gz', '2016-06-mailman-python-dev.mbox.gz', '2005-09-pipermail-python-list.txt.gz', '2019-12-pipermail-python-list.txt.gz', '2004-12-pipermail-python-dev.txt.gz', '2018-08-pipermail-python-announce-list.txt.gz', '2007-06-pipermail-python-list.txt.gz', '2016-06-mailman-python-announce-list.mbox.gz', '2013-02-mailman-python-dev.mbox.gz', '2011-06-mailman-python-dev.mbox.gz', '2007-07-mailman-python-announce-list.mbox.gz', '2014-04-pipermail-python-announce-list.txt.gz', '2004-01-mailman-python-announce-list.mbox.gz', '2003-03-mailman-python-dev.mbox.gz', '2008-03-mailman-python-ideas.mbox.gz', '2008-01-mailman-python-dev.mbox.gz', '2018-03-pipermail-python-ideas.txt.gz', '2019-06-pipermail-python-ideas.txt.gz', '2018-07-pipermail-python-dev.txt.gz', '2011-12-pipermail-python-announce-list.txt.gz', '2012-02-pipermail-python-list.txt.gz', '2006-05-pipermail-python-dev.txt.gz', '2015-10-pipermail-python-ideas.txt.gz', '2011-03-pipermail-python-ideas.txt.gz', '1999-11-pipermail-python-dev.txt.gz', '2005-01-pipermail-python-dev.txt.gz', '2017-08-mailman-python-announce-list.mbox.gz', '2007-11-pipermail-python-list.txt.gz', '2008-04-mailman-python-ideas.mbox.gz', '2000-08-mailman-python-dev.mbox.gz', '2013-06-mailman-python-ideas.mbox.gz', '2007-07-mailman-python-dev.mbox.gz', '2018-05-pipermail-python-announce-list.txt.gz', '2020-01-mailman-python-ideas.mbox.gz', '2009-08-pipermail-python-dev.txt.gz', '2017-05-mailman-python-announce-list.mbox.gz', '2004-07-mailman-python-dev.mbox.gz', '2001-04-pipermail-python-announce-list.txt.gz', '2010-03-pipermail-python-dev.txt.gz', '2015-10-pipermail-python-list.txt.gz', '2009-12-mailman-python-ideas.mbox.gz', '2001-03-pipermail-python-list.txt.gz', '2015-05-mailman-python-announce-list.mbox.gz', '2004-08-mailman-python-announce-list.mbox.gz', '2001-02-pipermail-python-announce-list.txt.gz', '2009-11-pipermail-python-announce-list.txt.gz', '2018-11-pipermail-python-announce-list.txt.gz', '2020-01-mailman-python-announce-list.mbox.gz', '2017-02-mailman-python-ideas.mbox.gz', '2016-03-mailman-python-dev.mbox.gz', '2012-11-mailman-python-ideas.mbox.gz', '2006-01-mailman-python-announce-list.mbox.gz', '2003-06-pipermail-python-announce-list.txt.gz', '2019-02-mailman-python-announce-list.mbox.gz', '2005-07-mailman-python-announce-list.mbox.gz', '2013-10-pipermail-python-list.txt.gz', '2015-03-pipermail-python-list.txt.gz', '2005-11-mailman-python-dev.mbox.gz', '2001-10-mailman-python-announce-list.mbox.gz', '2005-04-pipermail-python-dev.txt.gz', '1999-12-mailman-python-dev.mbox.gz', '2018-11-pipermail-python-list.txt.gz', '2016-02-pipermail-python-list.txt.gz', '2021-02-mailman-python-announce-list.mbox.gz', '2017-07-mailman-python-ideas.mbox.gz', '2014-12-pipermail-python-dev.txt.gz', '2001-10-pipermail-python-announce-list.txt.gz', '1999-04-pipermail-python-dev.txt.gz', '2004-01-pipermail-python-announce-list.txt.gz', '2015-02-pipermail-python-dev.txt.gz', '2013-07-mailman-python-dev.mbox.gz', '2004-08-pipermail-python-announce-list.txt.gz', '2002-12-pipermail-python-announce-list.txt.gz', '2004-06-pipermail-python-announce-list.txt.gz', '2004-11-mailman-python-dev.mbox.gz', '2014-11-mailman-python-ideas.mbox.gz', '2008-09-pipermail-python-ideas.txt.gz', '2007-10-mailman-python-dev.mbox.gz', '2009-06-mailman-python-dev.mbox.gz', '2014-11-mailman-python-dev.mbox.gz', '2002-08-pipermail-python-dev.txt.gz', '2015-06-pipermail-python-list.txt.gz', '2017-07-pipermail-python-ideas.txt.gz', '2012-02-mailman-python-announce-list.mbox.gz', '2007-04-mailman-python-ideas.mbox.gz', '2019-07-pipermail-python-list.txt.gz', '2002-09-pipermail-python-dev.txt.gz', '2003-09-mailman-python-dev.mbox.gz', '2015-05-pipermail-python-dev.txt.gz', '2010-10-pipermail-python-ideas.txt.gz', '2005-08-mailman-python-announce-list.mbox.gz', '2020-07-pipermail-python-list.txt.gz', '2012-12-mailman-python-dev.mbox.gz', '2004-07-pipermail-python-list.txt.gz', '2003-07-mailman-python-dev.mbox.gz', '2009-04-pipermail-python-announce-list.txt.gz', '2016-04-pipermail-python-dev.txt.gz', '2018-09-mailman-python-ideas.mbox.gz', '2012-11-mailman-python-announce-list.mbox.gz', '2007-08-pipermail-python-dev.txt.gz', '2003-05-pipermail-python-dev.txt.gz', '2007-03-pipermail-python-ideas.txt.gz', '2003-05-pipermail-python-list.txt.gz', '2010-12-pipermail-python-ideas.txt.gz', '2000-06-pipermail-python-dev.txt.gz', '2015-09-pipermail-python-announce-list.txt.gz', '2008-11-mailman-python-ideas.mbox.gz', '2004-09-mailman-python-dev.mbox.gz', '2007-11-pipermail-python-announce-list.txt.gz', '2008-09-pipermail-python-dev.txt.gz', '2008-07-pipermail-python-ideas.txt.gz', '2014-02-pipermail-python-dev.txt.gz', '2021-01-pipermail-python-list.txt.gz', '2007-02-mailman-python-dev.mbox.gz', '2004-07-mailman-python-announce-list.mbox.gz', '2013-03-pipermail-python-ideas.txt.gz', '2018-01-mailman-python-dev.mbox.gz', '2019-03-mailman-python-announce-list.mbox.gz', '2012-06-mailman-python-announce-list.mbox.gz', '2013-03-mailman-python-dev.mbox.gz', '2014-11-pipermail-python-dev.txt.gz', '2017-11-pipermail-python-announce-list.txt.gz', '2015-04-pipermail-python-dev.txt.gz', '1999-12-pipermail-python-announce-list.txt.gz', '2016-02-pipermail-python-ideas.txt.gz', '2013-08-pipermail-python-ideas.txt.gz', '2008-02-mailman-python-ideas.mbox.gz', '2015-09-mailman-python-dev.mbox.gz', '2017-10-mailman-python-dev.mbox.gz', '2019-04-pipermail-python-ideas.txt.gz', '2011-03-mailman-python-dev.mbox.gz', '2008-05-pipermail-python-dev.txt.gz', '2013-08-mailman-python-dev.mbox.gz', '2014-06-pipermail-python-announce-list.txt.gz', '2020-11-mailman-python-ideas.mbox.gz', '2014-11-pipermail-python-announce-list.txt.gz', '2017-05-mailman-python-ideas.mbox.gz', '2018-03-pipermail-python-announce-list.txt.gz', '2015-09-pipermail-python-list.txt.gz', '2020-07-mailman-python-ideas.mbox.gz', '2014-02-pipermail-python-list.txt.gz', '2000-04-pipermail-python-dev.txt.gz', '2019-12-mailman-python-announce-list.mbox.gz', '2019-02-mailman-python-dev.mbox.gz', '2018-09-pipermail-python-ideas.txt.gz', '1999-09-pipermail-python-dev.txt.gz', '2009-08-pipermail-python-ideas.txt.gz', '2011-03-pipermail-python-dev.txt.gz', '2008-11-pipermail-python-announce-list.txt.gz', '2013-02-pipermail-python-ideas.txt.gz', '2016-12-pipermail-python-dev.txt.gz', '2000-11-pipermail-python-announce-list.txt.gz', '2013-08-mailman-python-announce-list.mbox.gz', '2010-01-pipermail-python-dev.txt.gz', '2008-02-pipermail-python-ideas.txt.gz', '2011-02-pipermail-python-announce-list.txt.gz', '2013-05-mailman-python-dev.mbox.gz', '2009-01-pipermail-python-ideas.txt.gz', '2001-02-mailman-python-announce-list.mbox.gz', '2013-05-pipermail-python-list.txt.gz', '2007-09-mailman-python-dev.mbox.gz', '2019-05-pipermail-python-ideas.txt.gz', '2010-05-mailman-python-announce-list.mbox.gz', '2019-12-mailman-python-dev.mbox.gz', '2017-02-mailman-python-announce-list.mbox.gz', '2006-12-mailman-python-ideas.mbox.gz', '2006-08-pipermail-python-dev.txt.gz', '2017-06-mailman-python-dev.mbox.gz', '2013-02-pipermail-python-dev.txt.gz', '2005-11-pipermail-python-dev.txt.gz', '2004-11-pipermail-python-announce-list.txt.gz', '1999-09-mailman-python-announce-list.mbox.gz', '2003-06-mailman-python-announce-list.mbox.gz', '2007-06-mailman-python-dev.mbox.gz', '2007-07-pipermail-python-announce-list.txt.gz', '2010-03-mailman-python-ideas.mbox.gz', '2011-07-mailman-python-announce-list.mbox.gz', '2011-03-mailman-python-ideas.mbox.gz', '2009-02-mailman-python-ideas.mbox.gz', '2002-10-mailman-python-announce-list.mbox.gz', '2008-09-pipermail-python-announce-list.txt.gz', '2010-09-pipermail-python-dev.txt.gz', '2020-06-mailman-python-announce-list.mbox.gz', '2018-12-pipermail-python-dev.txt.gz', '2008-01-mailman-python-ideas.mbox.gz', '2016-01-pipermail-python-ideas.txt.gz', '2007-05-pipermail-python-dev.txt.gz', '2002-10-pipermail-python-dev.txt.gz', '2012-08-pipermail-python-list.txt.gz', '2015-06-mailman-python-dev.mbox.gz', '2001-07-mailman-python-dev.mbox.gz', '2015-07-pipermail-python-announce-list.txt.gz', '2007-12-mailman-python-dev.mbox.gz', '2013-12-pipermail-python-list.txt.gz', '2007-06-mailman-python-announce-list.mbox.gz', '2011-07-mailman-python-dev.mbox.gz', '2020-06-mailman-python-dev.mbox.gz', '2001-05-pipermail-python-announce-list.txt.gz', '2008-05-pipermail-python-ideas.txt.gz', '2014-06-pipermail-python-dev.txt.gz', '2016-08-pipermail-python-ideas.txt.gz', '2000-12-mailman-python-dev.mbox.gz', '2017-04-mailman-python-dev.mbox.gz', '2014-04-mailman-python-ideas.mbox.gz', '2017-03-mailman-python-ideas.mbox.gz', '2012-02-mailman-python-dev.mbox.gz', '2009-09-pipermail-python-announce-list.txt.gz', '2001-07-pipermail-python-dev.txt.gz', '2006-05-mailman-python-dev.mbox.gz', '2011-09-mailman-python-ideas.mbox.gz', '2001-01-pipermail-python-dev.txt.gz', '2014-07-pipermail-python-dev.txt.gz', '2009-08-mailman-python-announce-list.mbox.gz', '2014-03-pipermail-python-announce-list.txt.gz', '2016-04-mailman-python-dev.mbox.gz', '2018-09-mailman-python-announce-list.mbox.gz', '2011-02-mailman-python-dev.mbox.gz', '2015-02-mailman-python-dev.mbox.gz', '2005-05-pipermail-python-dev.txt.gz', '2016-03-pipermail-python-announce-list.txt.gz', '2011-12-mailman-python-dev.mbox.gz', '2007-06-pipermail-python-ideas.txt.gz', '2019-07-mailman-python-announce-list.mbox.gz', '2015-08-pipermail-python-ideas.txt.gz', '2003-02-mailman-python-dev.mbox.gz', '1999-10-pipermail-python-list.txt.gz', '2002-10-pipermail-python-list.txt.gz', '2014-07-pipermail-python-list.txt.gz', '2015-02-pipermail-python-announce-list.txt.gz', '2003-09-pipermail-python-announce-list.txt.gz', '2018-07-mailman-python-announce-list.mbox.gz', '2002-11-pipermail-python-announce-list.txt.gz', '1999-07-mailman-python-announce-list.mbox.gz', '2002-07-pipermail-python-announce-list.txt.gz', '2007-02-pipermail-python-dev.txt.gz', '2010-07-mailman-python-ideas.mbox.gz', '2008-06-pipermail-python-announce-list.txt.gz', '2014-12-pipermail-python-announce-list.txt.gz', '2019-08-pipermail-python-list.txt.gz', '2002-05-pipermail-python-dev.txt.gz', '1999-06-mailman-python-dev.mbox.gz', '2010-04-pipermail-python-list.txt.gz', '1999-05-pipermail-python-list.txt.gz', '2008-07-pipermail-python-dev.txt.gz', '2016-11-pipermail-python-ideas.txt.gz', '2020-11-pipermail-python-list.txt.gz', '2018-05-mailman-python-dev.mbox.gz', '2010-07-pipermail-python-announce-list.txt.gz', '2000-10-pipermail-python-announce-list.txt.gz', '2013-09-pipermail-python-ideas.txt.gz', '2009-01-mailman-python-announce-list.mbox.gz', '2016-11-pipermail-python-dev.txt.gz', '2005-06-pipermail-python-announce-list.txt.gz', '2007-03-pipermail-python-list.txt.gz', '2003-11-mailman-python-dev.mbox.gz', '2006-02-pipermail-python-announce-list.txt.gz', '2010-07-pipermail-python-dev.txt.gz', '2016-09-pipermail-python-announce-list.txt.gz', '2003-12-mailman-python-dev.mbox.gz', '2009-06-pipermail-python-dev.txt.gz', '2011-12-pipermail-python-dev.txt.gz', '2019-02-mailman-python-ideas.mbox.gz', '2010-06-mailman-python-ideas.mbox.gz', '2018-01-mailman-python-announce-list.mbox.gz', '2015-04-pipermail-python-announce-list.txt.gz', '2006-08-mailman-python-announce-list.mbox.gz', '2011-12-pipermail-python-list.txt.gz', '2007-10-pipermail-python-list.txt.gz', '2011-11-pipermail-python-ideas.txt.gz', '2007-02-pipermail-python-list.txt.gz', '2010-09-mailman-python-ideas.mbox.gz', '2017-08-pipermail-python-announce-list.txt.gz', '2020-11-mailman-python-announce-list.mbox.gz', '2012-07-pipermail-python-list.txt.gz', '2009-12-mailman-python-announce-list.mbox.gz', '2016-02-mailman-python-ideas.mbox.gz', '2002-09-mailman-python-announce-list.mbox.gz', '2013-04-pipermail-python-announce-list.txt.gz', '2018-12-mailman-python-dev.mbox.gz', '2010-04-mailman-python-ideas.mbox.gz', '2019-01-pipermail-python-list.txt.gz', '2003-05-mailman-python-dev.mbox.gz', '2018-10-pipermail-python-ideas.txt.gz', '1999-10-mailman-python-dev.mbox.gz', '2005-09-mailman-python-announce-list.mbox.gz', '2018-04-pipermail-python-announce-list.txt.gz', '2017-01-pipermail-python-list.txt.gz', '2017-09-mailman-python-ideas.mbox.gz', '2011-06-pipermail-python-list.txt.gz', '2005-06-pipermail-python-list.txt.gz', '2011-12-pipermail-python-ideas.txt.gz', '2005-04-mailman-python-announce-list.mbox.gz', '2016-05-mailman-python-dev.mbox.gz', '2013-06-pipermail-python-ideas.txt.gz', '2011-09-pipermail-python-announce-list.txt.gz', '2015-06-mailman-python-ideas.mbox.gz', '2014-09-mailman-python-dev.mbox.gz', '2012-02-pipermail-python-announce-list.txt.gz', '2005-04-mailman-python-dev.mbox.gz', '2016-12-mailman-python-ideas.mbox.gz', '2010-07-pipermail-python-ideas.txt.gz', '2016-10-pipermail-python-list.txt.gz', '2018-10-mailman-python-ideas.mbox.gz', '2007-08-pipermail-python-ideas.txt.gz', '2019-04-mailman-python-announce-list.mbox.gz', '2015-09-mailman-python-announce-list.mbox.gz', '2019-06-pipermail-python-announce-list.txt.gz', '2010-08-pipermail-python-announce-list.txt.gz', '2001-04-pipermail-python-list.txt.gz', '2016-03-pipermail-python-dev.txt.gz', '2020-10-mailman-python-announce-list.mbox.gz', '2008-12-pipermail-python-ideas.txt.gz', '2021-02-mailman-python-ideas.mbox.gz', '2007-04-pipermail-python-list.txt.gz', '2006-09-mailman-python-announce-list.mbox.gz', '2010-08-pipermail-python-ideas.txt.gz', '2012-04-pipermail-python-list.txt.gz', '2017-01-mailman-python-dev.mbox.gz', '2001-11-pipermail-python-list.txt.gz', '2000-05-mailman-python-dev.mbox.gz', '2014-07-pipermail-python-ideas.txt.gz', '2020-07-mailman-python-dev.mbox.gz', '2001-11-mailman-python-announce-list.mbox.gz', '2009-09-mailman-python-dev.mbox.gz', '2010-08-mailman-python-announce-list.mbox.gz', '2015-07-pipermail-python-list.txt.gz', '2013-08-pipermail-python-announce-list.txt.gz', '2009-03-pipermail-python-ideas.txt.gz', '2012-08-pipermail-python-ideas.txt.gz', '2005-03-mailman-python-announce-list.mbox.gz', '2012-01-pipermail-python-announce-list.txt.gz', '2006-12-mailman-python-announce-list.mbox.gz', '2008-02-pipermail-python-announce-list.txt.gz', '2011-10-pipermail-python-ideas.txt.gz', '2007-11-mailman-python-ideas.mbox.gz', '2013-06-pipermail-python-dev.txt.gz', '2005-02-pipermail-python-dev.txt.gz', '2016-06-mailman-python-ideas.mbox.gz', '2004-01-pipermail-python-dev.txt.gz', '2016-10-pipermail-python-announce-list.txt.gz', '2012-12-mailman-python-ideas.mbox.gz', '2015-08-pipermail-python-announce-list.txt.gz', '2014-10-mailman-python-announce-list.mbox.gz', '2001-01-pipermail-python-list.txt.gz', '2007-04-pipermail-python-ideas.txt.gz', '2004-08-pipermail-python-dev.txt.gz', '2017-11-pipermail-python-dev.txt.gz', '2016-07-pipermail-python-ideas.txt.gz', '2012-07-mailman-python-announce-list.mbox.gz', '2016-07-pipermail-python-dev.txt.gz', '2011-07-mailman-python-ideas.mbox.gz', '2007-10-pipermail-python-dev.txt.gz', '2002-05-mailman-python-announce-list.mbox.gz', '2007-06-pipermail-python-dev.txt.gz', '1999-11-mailman-python-dev.mbox.gz', '2011-05-mailman-python-announce-list.mbox.gz', '2011-03-pipermail-python-list.txt.gz', '2004-04-mailman-python-dev.mbox.gz', '2016-05-pipermail-python-announce-list.txt.gz', '2018-01-mailman-python-ideas.mbox.gz', '2006-12-pipermail-python-dev.txt.gz', '2014-01-pipermail-python-ideas.txt.gz', '2018-05-pipermail-python-ideas.txt.gz', '2016-11-mailman-python-announce-list.mbox.gz', '2018-06-pipermail-python-announce-list.txt.gz', '2019-05-mailman-python-announce-list.mbox.gz', '2021-03-mailman-python-ideas.mbox.gz', '2008-11-pipermail-python-dev.txt.gz', '2013-08-mailman-python-ideas.mbox.gz', '2012-08-mailman-python-announce-list.mbox.gz', '2003-01-pipermail-python-announce-list.txt.gz', '2019-03-pipermail-python-ideas.txt.gz', '2007-07-pipermail-python-ideas.txt.gz', '2005-08-pipermail-python-dev.txt.gz', '2013-01-mailman-python-ideas.mbox.gz', '2001-12-pipermail-python-announce-list.txt.gz']\n"
                    ]
                }
            ],
            "source": [
                "# First check which mailing lists are included in OCEAN\n",
                "messages = sess.query(sa.func.jsonb_extract_path_text(sch.FusedEntity.attrs,'origin_filename')).where(sch.FusedEntity.type == sch.EntityTypeEnum.message).distinct()\n",
                "print([message[0] for message in messages.all()])"
            ]
        },
        {
            "cell_type": "code",
            "execution_count": 47,
            "metadata": {},
            "outputs": [
                {
                    "name": "stdout",
                    "output_type": "stream",
                    "text": [
                        "331\n"
                    ]
                }
            ],
            "source": [
                "# Search relevant fields of messages and commits for mentions to \"PEP XXX\"\n",
                "number = 1\n",
                "search_string = rf'pep {number}\\D' #must use lowercase since comparison is made using lowercase\n",
                "links = sess.query(sch.Entity).where(sch.Entity.type == sch.EntityTypeEnum.message).where(sa.or_(sa.func.lower(sa.func.jsonb_extract_path_text(sch.Entity.attrs,field)).regexp_match(search_string) for field in ['subject','body_text']))\n",
                "print(links.count())\n",
                "links = sess.query(sch.FusedEntity).where(sch.FusedEntity.type == sch.EntityTypeEnum.git_commit).where(sa.func.lower(sa.func.jsonb_extract_path_text(sch.FusedEntity.attrs,'message')).contains(search_string))\n",
                "print(links.count())"
            ]
        }
    ],
    "metadata": {
        "interpreter": {
            "hash": "b582a18c25113efe951eebbf74441ddb9a7b23854075204157e65469fc329733"
        },
        "kernelspec": {
            "display_name": "Python 3.8.2 64-bit ('py38': venv)",
            "name": "python3"
        },
        "language_info": {
            "codemirror_mode": {
                "name": "ipython",
                "version": 3
            },
            "file_extension": ".py",
            "mimetype": "text/x-python",
            "name": "python",
            "nbconvert_exporter": "python",
            "pygments_lexer": "ipython3",
            "version": "3.8.2"
        },
        "orig_nbformat": 4
    },
    "nbformat": 4,
    "nbformat_minor": 2
}
